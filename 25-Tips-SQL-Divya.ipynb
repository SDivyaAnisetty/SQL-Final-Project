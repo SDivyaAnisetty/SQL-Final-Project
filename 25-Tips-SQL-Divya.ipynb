{
    "metadata": {
        "kernelspec": {
            "name": "SQL",
            "display_name": "SQL",
            "language": "sql"
        },
        "language_info": {
            "name": "sql",
            "version": ""
        }
    },
    "nbformat_minor": 2,
    "nbformat": 4,
    "cells": [
        {
            "cell_type": "markdown",
            "source": [
                "# **25 T-SQL Tips!**"
            ],
            "metadata": {
                "azdata_cell_guid": "1e94c7d0-2e42-4f8d-8a4b-78845f29ccac"
            },
            "attachments": {}
        },
        {
            "cell_type": "markdown",
            "source": [
                "Listed below are SQL (Structured Query Language) tips. SQL is a standard language that enables user to manage data, define structures, query information and maintain data in database. Within SQL, there are four key subsets of queries.\n",
                "\n",
                "1. DML - Data Manipulation Language deals with modifying and manipulation of data.\n",
                "    \n",
                "    - INSERT\n",
                "    - UPDATE\n",
                "    - DELETE\n",
                "2. DQL - Data Query Language deals with querying and retreiving of data. _\\[focus point for the tips below\\]_\n",
                "    \n",
                "    - SELECT\n",
                "3. DDL - Data Definition Language deals with defining and managing the structure of data.\n",
                "    \n",
                "    - CREATE\n",
                "    - ALTER\n",
                "    - DROP\n",
                "4. TCL - Transaction Control Language deals with managing transactions within the database.\n",
                "    \n",
                "    - COMMIT\n",
                "    - ROLLBACK\n",
                "    - SAVEPOINT\n",
                "    - SET\\_Transaction\n",
                "\n",
                "These tips are focused on retreiving a useful       data which is called _**DQL (Data Query Language)**_ and the database '_**AdventureWorks2022**_' is used to run these.\n",
                "\n",
                "Each tip starts with an explanation on the query listed, followed by a code block with the ready to use code and lastly the same code retreiving the TOP 3 to 5 records along with the output.\n",
                "\n",
                "To practise, copy and paste the query from the code block to a DBMS tool of choice. The database, _AdventureWorks2022_ which is publicly available has to be restored prior to executing the query.\n",
                "\n",
                "The difficulty level of a query is indicated as below. \n",
                "\n",
                "- <span style=\"color: var(--vscode-foreground);\">EASY&nbsp; &nbsp; &nbsp; &nbsp; &nbsp; &nbsp; -&nbsp;🟢</span>\n",
                "- <span style=\"color: var(--vscode-foreground);\">MEDIUM&nbsp; &nbsp; &nbsp; -&nbsp;🟡</span>\n",
                "- <span style=\"color: var(--vscode-foreground);\">HARD&nbsp; &nbsp; &nbsp; &nbsp; &nbsp; &nbsp;-&nbsp;🟠</span>\n",
                "- <span style=\"color: var(--vscode-foreground);\">ADVANCED&nbsp; -&nbsp;🔴 (This is for future editions)</span>"
            ],
            "metadata": {
                "azdata_cell_guid": "7a7046ca-05ab-4de6-9057-2afe1e115261"
            },
            "attachments": {}
        },
        {
            "cell_type": "markdown",
            "source": [
                "# **🟢⚡️ Tip 1 - Simple SELECT with WHERE to filter**\n",
                "\n",
                "This is a simple SELECT query to retreive records FROM HumanResources.Department table. By using WHERE clause, we can filter required group.\n",
                "\n",
                "In SQL, \"--\" are used at the begginning of any line or text to comment and they are widely used to provide hints or explanations within the code block as the this text is ignored during execution. \n",
                "\n",
                "The syntax for any query is\n",
                "\n",
                "SELECT column1\\_name, column2\\_name, etc\n",
                "\n",
                "FROM table\\_name\n",
                "\n",
                "WHERE condition\n",
                "\n",
                "```SQL\n",
                "USE AdventureWorks2022;\n",
                "GO\n",
                "\n",
                "SELECT *\n",
                "FROM HumanResources.Department --table name\n",
                "--WHERE is used to filter records of choice on top of the data retrieved\n",
                "WHERE GroupName = 'Research and Development'\n",
                ";\n",
                "\n",
                "```"
            ],
            "metadata": {
                "azdata_cell_guid": "cb26c209-11ee-46ea-b0be-0f18e41f2d09",
                "language": ""
            },
            "attachments": {}
        },
        {
            "cell_type": "code",
            "source": [
                "USE AdventureWorks2022;\r\n",
                "GO\r\n",
                "\r\n",
                "SELECT TOP (3) *\r\n",
                "FROM HumanResources.Department --table name\r\n",
                "--WHERE is used to filter records of choice on top of the data retrieved\r\n",
                "WHERE GroupName = 'Research and Development'\r\n",
                ";"
            ],
            "metadata": {
                "azdata_cell_guid": "4f657be1-3b17-45a2-b5de-7f78e496f2d1",
                "language": "sql",
                "tags": []
            },
            "outputs": [
                {
                    "output_type": "display_data",
                    "data": {
                        "text/html": "Commands completed successfully."
                    },
                    "metadata": {}
                },
                {
                    "output_type": "display_data",
                    "data": {
                        "text/html": "(3 rows affected)"
                    },
                    "metadata": {}
                },
                {
                    "output_type": "display_data",
                    "data": {
                        "text/html": "Total execution time: 00:00:00.013"
                    },
                    "metadata": {}
                },
                {
                    "output_type": "execute_result",
                    "execution_count": 17,
                    "data": {
                        "application/vnd.dataresource+json": {
                            "schema": {
                                "fields": [
                                    {
                                        "name": "DepartmentID"
                                    },
                                    {
                                        "name": "Name"
                                    },
                                    {
                                        "name": "GroupName"
                                    },
                                    {
                                        "name": "ModifiedDate"
                                    }
                                ]
                            },
                            "data": [
                                {
                                    "DepartmentID": "1",
                                    "Name": "Engineering",
                                    "GroupName": "Research and Development",
                                    "ModifiedDate": "2008-04-30 00:00:00.000"
                                },
                                {
                                    "DepartmentID": "2",
                                    "Name": "Tool Design",
                                    "GroupName": "Research and Development",
                                    "ModifiedDate": "2008-04-30 00:00:00.000"
                                },
                                {
                                    "DepartmentID": "6",
                                    "Name": "Research and Development",
                                    "GroupName": "Research and Development",
                                    "ModifiedDate": "2008-04-30 00:00:00.000"
                                }
                            ]
                        },
                        "text/html": "<table><tr><th>DepartmentID</th><th>Name</th><th>GroupName</th><th>ModifiedDate</th></tr><tr><td>1</td><td>Engineering</td><td>Research and Development</td><td>2008-04-30 00:00:00.000</td></tr><tr><td>2</td><td>Tool Design</td><td>Research and Development</td><td>2008-04-30 00:00:00.000</td></tr><tr><td>6</td><td>Research and Development</td><td>Research and Development</td><td>2008-04-30 00:00:00.000</td></tr></table>"
                    },
                    "metadata": {}
                }
            ],
            "execution_count": 17
        },
        {
            "cell_type": "markdown",
            "source": [
                "# **🟢⚡️ Tip 2 - Multiple values filter under WHERE**"
            ],
            "metadata": {
                "language": "sql",
                "azdata_cell_guid": "be74171b-f97a-4bb5-9f7e-f5d9eb5044f1"
            },
            "attachments": {}
        },
        {
            "cell_type": "markdown",
            "source": [
                "Similar to Tip-1, multiple records can be filtered under WHERE clause by using IN statement. Exact results can be used by using an OR - Logical operator. \n",
                "\n",
                "We will be looking into other operators through out the tips.\n",
                "\n",
                "We have a different type of comment block shown in this example within /\\*    \\*/.  This type of comments are generally used when we need to include multiple lines of hints are explanations.\n",
                "\n",
                "The syntax for any query is\n",
                "\n",
                "SELECT column1\\_name, column2\\_name, etc\n",
                "\n",
                "FROM table\\_name\n",
                "\n",
                "WHERE condition\n",
                "\n",
                "```SQL\n",
                "USE AdventureWorks2022;\n",
                "GO\n",
                "\n",
                "SELECT *\n",
                "FROM HumanResources.Department\n",
                "/*\n",
                "WHERE GroupName = 'Research and Development'\n",
                "    OR GroupName = 'Quality Assurance'\n",
                "    OR GroupName = 'Manufacturing'\n",
                "*/ -- Can be executed in a single line using keyword 'IN'\n",
                "WHERE GroupName IN ('Research and Development', 'Quality Assurance', 'Manufacturing')\n",
                ";\n",
                "\n",
                "```"
            ],
            "metadata": {
                "language": "sql",
                "azdata_cell_guid": "ec0ffcdd-7eb7-467b-a03a-c2b84d9cf7f8"
            },
            "attachments": {}
        },
        {
            "cell_type": "code",
            "source": [
                "USE AdventureWorks2022;\r\n",
                "GO\r\n",
                "\r\n",
                "SELECT TOP (6) *\r\n",
                "FROM HumanResources.Department\r\n",
                "/*\r\n",
                "WHERE GroupName = 'Research and Development'\r\n",
                "    OR GroupName = 'Quality Assurance'\r\n",
                "    OR GroupName = 'Manufacturing'\r\n",
                "*/ -- Can be executed in a single line using keyword 'IN'\r\n",
                "WHERE GroupName IN ('Research and Development', 'Quality Assurance', 'Manufacturing')\r\n",
                ";"
            ],
            "metadata": {
                "azdata_cell_guid": "c64b4cda-5eaa-4ee3-9656-032436581b0d",
                "language": "sql"
            },
            "outputs": [
                {
                    "output_type": "display_data",
                    "data": {
                        "text/html": "Commands completed successfully."
                    },
                    "metadata": {}
                },
                {
                    "output_type": "display_data",
                    "data": {
                        "text/html": "(6 rows affected)"
                    },
                    "metadata": {}
                },
                {
                    "output_type": "display_data",
                    "data": {
                        "text/html": "Total execution time: 00:00:00.022"
                    },
                    "metadata": {}
                },
                {
                    "output_type": "execute_result",
                    "execution_count": 18,
                    "data": {
                        "application/vnd.dataresource+json": {
                            "schema": {
                                "fields": [
                                    {
                                        "name": "DepartmentID"
                                    },
                                    {
                                        "name": "Name"
                                    },
                                    {
                                        "name": "GroupName"
                                    },
                                    {
                                        "name": "ModifiedDate"
                                    }
                                ]
                            },
                            "data": [
                                {
                                    "DepartmentID": "1",
                                    "Name": "Engineering",
                                    "GroupName": "Research and Development",
                                    "ModifiedDate": "2008-04-30 00:00:00.000"
                                },
                                {
                                    "DepartmentID": "2",
                                    "Name": "Tool Design",
                                    "GroupName": "Research and Development",
                                    "ModifiedDate": "2008-04-30 00:00:00.000"
                                },
                                {
                                    "DepartmentID": "6",
                                    "Name": "Research and Development",
                                    "GroupName": "Research and Development",
                                    "ModifiedDate": "2008-04-30 00:00:00.000"
                                },
                                {
                                    "DepartmentID": "7",
                                    "Name": "Production",
                                    "GroupName": "Manufacturing",
                                    "ModifiedDate": "2008-04-30 00:00:00.000"
                                },
                                {
                                    "DepartmentID": "8",
                                    "Name": "Production Control",
                                    "GroupName": "Manufacturing",
                                    "ModifiedDate": "2008-04-30 00:00:00.000"
                                },
                                {
                                    "DepartmentID": "12",
                                    "Name": "Document Control",
                                    "GroupName": "Quality Assurance",
                                    "ModifiedDate": "2008-04-30 00:00:00.000"
                                }
                            ]
                        },
                        "text/html": "<table><tr><th>DepartmentID</th><th>Name</th><th>GroupName</th><th>ModifiedDate</th></tr><tr><td>1</td><td>Engineering</td><td>Research and Development</td><td>2008-04-30 00:00:00.000</td></tr><tr><td>2</td><td>Tool Design</td><td>Research and Development</td><td>2008-04-30 00:00:00.000</td></tr><tr><td>6</td><td>Research and Development</td><td>Research and Development</td><td>2008-04-30 00:00:00.000</td></tr><tr><td>7</td><td>Production</td><td>Manufacturing</td><td>2008-04-30 00:00:00.000</td></tr><tr><td>8</td><td>Production Control</td><td>Manufacturing</td><td>2008-04-30 00:00:00.000</td></tr><tr><td>12</td><td>Document Control</td><td>Quality Assurance</td><td>2008-04-30 00:00:00.000</td></tr></table>"
                    },
                    "metadata": {}
                }
            ],
            "execution_count": 18
        },
        {
            "cell_type": "markdown",
            "source": [
                "# **🟢⚡️ Tip 3 - Sort records using ORDER BY**\n",
                "\n",
                "The result set can be sorted in ascending or descending order by using ORDER BY clause. When an ORDER BY is used, the records are sorted in ascending (ASC) order by default. To change the sorting to descenting order, DESC is used in the end.\n",
                "\n",
                "The syntax for any query is\n",
                "\n",
                "SELECT column1\\_name, column2\\_name, etc\n",
                "\n",
                "FROM table\\_name\n",
                "\n",
                "WHERE condition\n",
                "\n",
                "ORDER BY <span style=\"color: var(--vscode-foreground);\">column1_name DESC&nbsp;</span>    \n",
                "\n",
                "```SQL\n",
                "USE AdventureWorks2022;\n",
                "GO\n",
                "\n",
                "SELECT * \n",
                "FROM Sales.SalesTaxRate\n",
                "ORDER BY TaxRate DESC --ASC\n",
                ";\n",
                "\n",
                "```"
            ],
            "metadata": {
                "azdata_cell_guid": "5ab57ad6-564f-4837-bf06-86eb059f0071"
            },
            "attachments": {}
        },
        {
            "cell_type": "code",
            "source": [
                "USE AdventureWorks2022;\r\n",
                "GO\r\n",
                "\r\n",
                "SELECT TOP (3) * \r\n",
                "FROM Sales.SalesTaxRate\r\n",
                "ORDER BY TaxRate DESC --ASC\r\n",
                ";"
            ],
            "metadata": {
                "azdata_cell_guid": "8f0e225d-f074-4d77-8278-6783574f1d65",
                "language": "sql"
            },
            "outputs": [
                {
                    "output_type": "display_data",
                    "data": {
                        "text/html": "Commands completed successfully."
                    },
                    "metadata": {}
                },
                {
                    "output_type": "display_data",
                    "data": {
                        "text/html": "(3 rows affected)"
                    },
                    "metadata": {}
                },
                {
                    "output_type": "display_data",
                    "data": {
                        "text/html": "Total execution time: 00:00:00.009"
                    },
                    "metadata": {}
                },
                {
                    "output_type": "execute_result",
                    "execution_count": 20,
                    "data": {
                        "application/vnd.dataresource+json": {
                            "schema": {
                                "fields": [
                                    {
                                        "name": "SalesTaxRateID"
                                    },
                                    {
                                        "name": "StateProvinceID"
                                    },
                                    {
                                        "name": "TaxType"
                                    },
                                    {
                                        "name": "TaxRate"
                                    },
                                    {
                                        "name": "Name"
                                    },
                                    {
                                        "name": "rowguid"
                                    },
                                    {
                                        "name": "ModifiedDate"
                                    }
                                ]
                            },
                            "data": [
                                {
                                    "SalesTaxRateID": "30",
                                    "StateProvinceID": "84",
                                    "TaxType": "3",
                                    "TaxRate": "19.60",
                                    "Name": "France Output Tax",
                                    "rowguid": "5446ea04-fa7c-4b02-a157-a05f44bf47b6",
                                    "ModifiedDate": "2008-04-30 00:00:00.000"
                                },
                                {
                                    "SalesTaxRateID": "31",
                                    "StateProvinceID": "14",
                                    "TaxType": "3",
                                    "TaxRate": "17.50",
                                    "Name": "United Kingdom Output Tax",
                                    "rowguid": "abd185a9-5367-44e1-8a6e-71d083943f3c",
                                    "ModifiedDate": "2008-04-30 00:00:00.000"
                                },
                                {
                                    "SalesTaxRateID": "29",
                                    "StateProvinceID": "20",
                                    "TaxType": "3",
                                    "TaxRate": "16.00",
                                    "Name": "Germany Output Tax",
                                    "rowguid": "78c8a559-4d0f-45b6-b7a3-e11ff9a702f4",
                                    "ModifiedDate": "2008-04-30 00:00:00.000"
                                }
                            ]
                        },
                        "text/html": "<table><tr><th>SalesTaxRateID</th><th>StateProvinceID</th><th>TaxType</th><th>TaxRate</th><th>Name</th><th>rowguid</th><th>ModifiedDate</th></tr><tr><td>30</td><td>84</td><td>3</td><td>19.60</td><td>France Output Tax</td><td>5446ea04-fa7c-4b02-a157-a05f44bf47b6</td><td>2008-04-30 00:00:00.000</td></tr><tr><td>31</td><td>14</td><td>3</td><td>17.50</td><td>United Kingdom Output Tax</td><td>abd185a9-5367-44e1-8a6e-71d083943f3c</td><td>2008-04-30 00:00:00.000</td></tr><tr><td>29</td><td>20</td><td>3</td><td>16.00</td><td>Germany Output Tax</td><td>78c8a559-4d0f-45b6-b7a3-e11ff9a702f4</td><td>2008-04-30 00:00:00.000</td></tr></table>"
                    },
                    "metadata": {}
                }
            ],
            "execution_count": 20
        },
        {
            "cell_type": "markdown",
            "source": [
                "# **🟢⚡️ Tip 4 - Operators**\n",
                "\n",
                "Operators are a reserved word or character used to query a condition in SQL and there are four types of operators.\n",
                "\n",
                "1. Arithmetic operators **\\--\\>** +, -, \\*, /, %\n",
                "2. Logical operators **\\--\\>** ALL, AND, ANY, BETWEEN, EXISTS, IN, LIKE, NOT, OR, SOME\n",
                "3. Compound operators **\\--\\>** +=, -+, \\*=, /=, %=, &=, ^-=, |\\*=\n",
                "4. Comparison operators **\\--\\>** =, \\>, \\<, \\>=, \\<=, \\<\\>\n",
                "\n",
                " In this tip, we are using comparison operators _\\\\\\>= and \\<=_ to add a condition on filter. \n",
                "\n",
                "```SQL\n",
                "USE AdventureWorks2022;\n",
                "GO\n",
                "\n",
                "SELECT *\n",
                "FROM Sales.SalesTaxRate\n",
                "WHERE (TaxRate >= 7)\n",
                "    AND (TaxRate <= 15)\n",
                ";\n",
                "\n",
                "```"
            ],
            "metadata": {
                "language": "sql",
                "azdata_cell_guid": "c6a740db-ef01-4929-9ffe-c4baa56c6a4a"
            },
            "attachments": {}
        },
        {
            "cell_type": "code",
            "source": [
                "USE AdventureWorks2022;\r\n",
                "GO\r\n",
                "\r\n",
                "SELECT TOP (5) *\r\n",
                "FROM Sales.SalesTaxRate\r\n",
                "WHERE (TaxRate >= 7)\r\n",
                "\tAND (TaxRate <= 15)\r\n",
                ";"
            ],
            "metadata": {
                "language": "sql",
                "azdata_cell_guid": "ae971f6e-1192-4cfd-8015-7f6254afff18"
            },
            "outputs": [
                {
                    "output_type": "display_data",
                    "data": {
                        "text/html": "Commands completed successfully."
                    },
                    "metadata": {}
                },
                {
                    "output_type": "display_data",
                    "data": {
                        "text/html": "(5 rows affected)"
                    },
                    "metadata": {}
                },
                {
                    "output_type": "display_data",
                    "data": {
                        "text/html": "Total execution time: 00:00:00.026"
                    },
                    "metadata": {}
                },
                {
                    "output_type": "execute_result",
                    "execution_count": 21,
                    "data": {
                        "application/vnd.dataresource+json": {
                            "schema": {
                                "fields": [
                                    {
                                        "name": "SalesTaxRateID"
                                    },
                                    {
                                        "name": "StateProvinceID"
                                    },
                                    {
                                        "name": "TaxType"
                                    },
                                    {
                                        "name": "TaxRate"
                                    },
                                    {
                                        "name": "Name"
                                    },
                                    {
                                        "name": "rowguid"
                                    },
                                    {
                                        "name": "ModifiedDate"
                                    }
                                ]
                            },
                            "data": [
                                {
                                    "SalesTaxRateID": "1",
                                    "StateProvinceID": "1",
                                    "TaxType": "1",
                                    "TaxRate": "14.00",
                                    "Name": "Canadian GST + Alberta Provincial Tax",
                                    "rowguid": "683de5dd-521a-47d4-a573-06a3cdb1bc5d",
                                    "ModifiedDate": "2008-04-30 00:00:00.000"
                                },
                                {
                                    "SalesTaxRateID": "2",
                                    "StateProvinceID": "57",
                                    "TaxType": "1",
                                    "TaxRate": "14.25",
                                    "Name": "Canadian GST + Ontario Provincial Tax",
                                    "rowguid": "05c4ffdb-4f84-4cdf-abe5-fdf3216ea74e",
                                    "ModifiedDate": "2008-04-30 00:00:00.000"
                                },
                                {
                                    "SalesTaxRateID": "3",
                                    "StateProvinceID": "63",
                                    "TaxType": "1",
                                    "TaxRate": "14.25",
                                    "Name": "Canadian GST + Quebec Provincial Tax",
                                    "rowguid": "d4edb557-56d7-403c-b538-4df5e7302588",
                                    "ModifiedDate": "2008-04-30 00:00:00.000"
                                },
                                {
                                    "SalesTaxRateID": "4",
                                    "StateProvinceID": "1",
                                    "TaxType": "2",
                                    "TaxRate": "7.00",
                                    "Name": "Canadian GST",
                                    "rowguid": "f0d76907-b433-453f-b95e-16fce73b807a",
                                    "ModifiedDate": "2008-04-30 00:00:00.000"
                                },
                                {
                                    "SalesTaxRateID": "5",
                                    "StateProvinceID": "57",
                                    "TaxType": "2",
                                    "TaxRate": "7.00",
                                    "Name": "Canadian GST",
                                    "rowguid": "7e0e97a2-878b-476f-a648-05a3dd4450ed",
                                    "ModifiedDate": "2008-04-30 00:00:00.000"
                                }
                            ]
                        },
                        "text/html": "<table><tr><th>SalesTaxRateID</th><th>StateProvinceID</th><th>TaxType</th><th>TaxRate</th><th>Name</th><th>rowguid</th><th>ModifiedDate</th></tr><tr><td>1</td><td>1</td><td>1</td><td>14.00</td><td>Canadian GST + Alberta Provincial Tax</td><td>683de5dd-521a-47d4-a573-06a3cdb1bc5d</td><td>2008-04-30 00:00:00.000</td></tr><tr><td>2</td><td>57</td><td>1</td><td>14.25</td><td>Canadian GST + Ontario Provincial Tax</td><td>05c4ffdb-4f84-4cdf-abe5-fdf3216ea74e</td><td>2008-04-30 00:00:00.000</td></tr><tr><td>3</td><td>63</td><td>1</td><td>14.25</td><td>Canadian GST + Quebec Provincial Tax</td><td>d4edb557-56d7-403c-b538-4df5e7302588</td><td>2008-04-30 00:00:00.000</td></tr><tr><td>4</td><td>1</td><td>2</td><td>7.00</td><td>Canadian GST</td><td>f0d76907-b433-453f-b95e-16fce73b807a</td><td>2008-04-30 00:00:00.000</td></tr><tr><td>5</td><td>57</td><td>2</td><td>7.00</td><td>Canadian GST</td><td>7e0e97a2-878b-476f-a648-05a3dd4450ed</td><td>2008-04-30 00:00:00.000</td></tr></table>"
                    },
                    "metadata": {}
                }
            ],
            "execution_count": 21
        },
        {
            "cell_type": "markdown",
            "source": [
                "# **🟢⚡️ Tip 5 - Limit results using TOP and TOP WITH TIES**\n",
                "\n",
                "Did you notice that from Tip 1, we have been retreiving TOP(n) records with each query under example output block? TOP is used to limit the number of rows in the result set. Similarly, TOP (n) WITH TIES is used to retrieve n number of records plus anyother records that match this set. \n",
                "\n",
                "For example, in the below <span style=\"color: var(--vscode-foreground);\">query</span> <span style=\"color: var(--vscode-foreground);\">we are trying to retreive four records but our result set have five records. This is because we used</span> TOP (n) WITH TIES <span style=\"color: var(--vscode-foreground);\">and there are two records that ties with same TaxRate. To use</span> TOP(n) <span style=\"color: var(--vscode-foreground);\">OR</span> TOP (n) WITH TIES <span style=\"color: var(--vscode-foreground);\">we must to use an&nbsp;ORDER BY clause so our results set are meaningful.</span>\n",
                "\n",
                "```SQL\n",
                "USE AdventureWorks2022;\n",
                "GO\n",
                "\n",
                "SELECT TOP (4) WITH TIES* --Brings all records that matches the first 4 record's values, in this case TaxRate\n",
                "FROM Sales.SalesTaxRate\n",
                "ORDER BY TaxRate DESC\n",
                ";\n",
                "\n",
                "```"
            ],
            "metadata": {
                "language": "sql",
                "azdata_cell_guid": "7a6df3a3-83d5-464e-a1d9-bb12d36f84da"
            },
            "attachments": {}
        },
        {
            "cell_type": "code",
            "source": [
                "USE AdventureWorks2022;\r\n",
                "GO\r\n",
                "\r\n",
                "SELECT TOP (4) WITH TIES* --Brings all records that matches the first 4 record's values, in this case TaxRate\r\n",
                "FROM Sales.SalesTaxRate\r\n",
                "ORDER BY TaxRate DESC\r\n",
                ";"
            ],
            "metadata": {
                "language": "sql",
                "azdata_cell_guid": "08a27faf-1363-490f-8358-06000d1e4c4e",
                "tags": []
            },
            "outputs": [
                {
                    "output_type": "display_data",
                    "data": {
                        "text/html": "Commands completed successfully."
                    },
                    "metadata": {}
                },
                {
                    "output_type": "display_data",
                    "data": {
                        "text/html": "(5 rows affected)"
                    },
                    "metadata": {}
                },
                {
                    "output_type": "display_data",
                    "data": {
                        "text/html": "Total execution time: 00:00:00.054"
                    },
                    "metadata": {}
                },
                {
                    "output_type": "execute_result",
                    "execution_count": 6,
                    "data": {
                        "application/vnd.dataresource+json": {
                            "schema": {
                                "fields": [
                                    {
                                        "name": "SalesTaxRateID"
                                    },
                                    {
                                        "name": "StateProvinceID"
                                    },
                                    {
                                        "name": "TaxType"
                                    },
                                    {
                                        "name": "TaxRate"
                                    },
                                    {
                                        "name": "Name"
                                    },
                                    {
                                        "name": "rowguid"
                                    },
                                    {
                                        "name": "ModifiedDate"
                                    }
                                ]
                            },
                            "data": [
                                {
                                    "SalesTaxRateID": "30",
                                    "StateProvinceID": "84",
                                    "TaxType": "3",
                                    "TaxRate": "19.60",
                                    "Name": "France Output Tax",
                                    "rowguid": "5446ea04-fa7c-4b02-a157-a05f44bf47b6",
                                    "ModifiedDate": "2008-04-30 00:00:00.000"
                                },
                                {
                                    "SalesTaxRateID": "31",
                                    "StateProvinceID": "14",
                                    "TaxType": "3",
                                    "TaxRate": "17.50",
                                    "Name": "United Kingdom Output Tax",
                                    "rowguid": "abd185a9-5367-44e1-8a6e-71d083943f3c",
                                    "ModifiedDate": "2008-04-30 00:00:00.000"
                                },
                                {
                                    "SalesTaxRateID": "29",
                                    "StateProvinceID": "20",
                                    "TaxType": "3",
                                    "TaxRate": "16.00",
                                    "Name": "Germany Output Tax",
                                    "rowguid": "78c8a559-4d0f-45b6-b7a3-e11ff9a702f4",
                                    "ModifiedDate": "2008-04-30 00:00:00.000"
                                },
                                {
                                    "SalesTaxRateID": "2",
                                    "StateProvinceID": "57",
                                    "TaxType": "1",
                                    "TaxRate": "14.25",
                                    "Name": "Canadian GST + Ontario Provincial Tax",
                                    "rowguid": "05c4ffdb-4f84-4cdf-abe5-fdf3216ea74e",
                                    "ModifiedDate": "2008-04-30 00:00:00.000"
                                },
                                {
                                    "SalesTaxRateID": "3",
                                    "StateProvinceID": "63",
                                    "TaxType": "1",
                                    "TaxRate": "14.25",
                                    "Name": "Canadian GST + Quebec Provincial Tax",
                                    "rowguid": "d4edb557-56d7-403c-b538-4df5e7302588",
                                    "ModifiedDate": "2008-04-30 00:00:00.000"
                                }
                            ]
                        },
                        "text/html": "<table><tr><th>SalesTaxRateID</th><th>StateProvinceID</th><th>TaxType</th><th>TaxRate</th><th>Name</th><th>rowguid</th><th>ModifiedDate</th></tr><tr><td>30</td><td>84</td><td>3</td><td>19.60</td><td>France Output Tax</td><td>5446ea04-fa7c-4b02-a157-a05f44bf47b6</td><td>2008-04-30 00:00:00.000</td></tr><tr><td>31</td><td>14</td><td>3</td><td>17.50</td><td>United Kingdom Output Tax</td><td>abd185a9-5367-44e1-8a6e-71d083943f3c</td><td>2008-04-30 00:00:00.000</td></tr><tr><td>29</td><td>20</td><td>3</td><td>16.00</td><td>Germany Output Tax</td><td>78c8a559-4d0f-45b6-b7a3-e11ff9a702f4</td><td>2008-04-30 00:00:00.000</td></tr><tr><td>2</td><td>57</td><td>1</td><td>14.25</td><td>Canadian GST + Ontario Provincial Tax</td><td>05c4ffdb-4f84-4cdf-abe5-fdf3216ea74e</td><td>2008-04-30 00:00:00.000</td></tr><tr><td>3</td><td>63</td><td>1</td><td>14.25</td><td>Canadian GST + Quebec Provincial Tax</td><td>d4edb557-56d7-403c-b538-4df5e7302588</td><td>2008-04-30 00:00:00.000</td></tr></table>"
                    },
                    "metadata": {}
                }
            ],
            "execution_count": 6
        },
        {
            "cell_type": "markdown",
            "source": [
                "# **🟢⚡️ Tip 6 - Wildcards**\n",
                "\n",
                "This tip explains wildcard characters that are used to substitute one or more characters in a string. The logical operator LIKE is used under WHERE clause. There are various wild card characters. Try out some more examples for practise based on the examples below.\n",
                "\n",
                "- FirstName LIKE 'A\\[L\\_N\\]\\_\\_'  --\\> Retreives FirstNames that starts with 'A' and second letter could be L or N and ends with 2 more letters as there are 2 '\\_' (underscore)\n",
                "- FirstName LIKE '\\[A-D\\]\\_\\_' --\\> Retreives FirstNames that start from A, B, C or D and ends with 2 more letters as there are 2 '\\_' (underscore)\n",
                "- FirstName LIKE '\\[^ABC\\]\\_\\_' --\\> Retreives FirstNames that do not start with A, B or C and ends with 2 more letters as there are 2 '\\_' (underscore)\n",
                "- (NAME LIKE '%Bike%') OR (Name LIKE '%Bicycle%') --\\> Multiple conditions can be included under one statement using AND/OR operators.\n",
                "\n",
                "```SQL\n",
                "USE AdventureWorks2022;\n",
                "GO\n",
                "\n",
                "SELECT FirstName\n",
                "FROM Person.Person\n",
                "WHERE FirstName LIKE 'A[L_N]__';\n",
                "\n",
                "```"
            ],
            "metadata": {
                "language": "sql",
                "azdata_cell_guid": "8a63c860-52a2-4948-9e80-5b3e6ab8a1ea"
            },
            "attachments": {}
        },
        {
            "cell_type": "code",
            "source": [
                "USE AdventureWorks2022;\r\n",
                "GO\r\n",
                "\r\n",
                "SELECT TOP(3) FirstName\r\n",
                "FROM Person.Person\r\n",
                "WHERE FirstName LIKE 'A[L_N]__'--% is called a Wild Card or placeholder\r\n",
                ";"
            ],
            "metadata": {
                "language": "sql",
                "azdata_cell_guid": "8300b722-e7f6-4478-bc3f-4490c558635f"
            },
            "outputs": [
                {
                    "output_type": "display_data",
                    "data": {
                        "text/html": "Commands completed successfully."
                    },
                    "metadata": {}
                },
                {
                    "output_type": "display_data",
                    "data": {
                        "text/html": "(3 rows affected)"
                    },
                    "metadata": {}
                },
                {
                    "output_type": "display_data",
                    "data": {
                        "text/html": "Total execution time: 00:00:00.027"
                    },
                    "metadata": {}
                },
                {
                    "output_type": "execute_result",
                    "execution_count": 22,
                    "data": {
                        "application/vnd.dataresource+json": {
                            "schema": {
                                "fields": [
                                    {
                                        "name": "FirstName"
                                    }
                                ]
                            },
                            "data": [
                                {
                                    "FirstName": "Alex"
                                },
                                {
                                    "FirstName": "Anna"
                                },
                                {
                                    "FirstName": "Anna"
                                }
                            ]
                        },
                        "text/html": "<table><tr><th>FirstName</th></tr><tr><td>Alex</td></tr><tr><td>Anna</td></tr><tr><td>Anna</td></tr></table>"
                    },
                    "metadata": {}
                }
            ],
            "execution_count": 22
        },
        {
            "cell_type": "markdown",
            "source": [
                "# **🟢⚡️ Tip 7 - Placeholders**\n",
                "\n",
                "We can add extra columns in our SELECT statement that is not available in our result set incase we need an extra columns for future use, or missing data, or if there are details that need to be added and they are called placeholders. Below is an example where a new column 'Manufacturer AS AdventureWorks' is added to the result set showing how placeholders are used.\n",
                "\n",
                "```SQL\n",
                "USE AdventureWorks2022;\n",
                "GO\n",
                "\n",
                "SELECT Name\n",
                "        ,ProductNumber\n",
                "        ,'AdventureWorks' AS 'Manufacturer'\n",
                "        ,ListPrice\n",
                "        ,(ListPrice * 0.85) AS SalePrice\n",
                "FROM Production.[Product]\n",
                "WHERE ListPrice > 0\n",
                ";\n",
                "\n",
                "```"
            ],
            "metadata": {
                "language": "sql",
                "azdata_cell_guid": "9bfd5ac2-1f4a-4c24-94f2-fff8aea5d42a"
            },
            "attachments": {}
        },
        {
            "cell_type": "code",
            "source": [
                "SELECT TOP (3) Name\r\n",
                "\t\t,ProductNumber\r\n",
                "\t\t,'AdventureWorks' AS 'Manufacturer'\r\n",
                "\t\t,ListPrice\r\n",
                "\t\t,(ListPrice * 0.85) AS SalePrice\r\n",
                "FROM Production.[Product]\r\n",
                "WHERE ListPrice > 0\r\n",
                ";"
            ],
            "metadata": {
                "language": "sql",
                "azdata_cell_guid": "316f2475-d753-48b1-bd7b-284e7b6b3412"
            },
            "outputs": [
                {
                    "output_type": "display_data",
                    "data": {
                        "text/html": "(3 rows affected)"
                    },
                    "metadata": {}
                },
                {
                    "output_type": "display_data",
                    "data": {
                        "text/html": "Total execution time: 00:00:00.029"
                    },
                    "metadata": {}
                },
                {
                    "output_type": "execute_result",
                    "execution_count": 8,
                    "data": {
                        "application/vnd.dataresource+json": {
                            "schema": {
                                "fields": [
                                    {
                                        "name": "Name"
                                    },
                                    {
                                        "name": "ProductNumber"
                                    },
                                    {
                                        "name": "Manufacturer"
                                    },
                                    {
                                        "name": "ListPrice"
                                    },
                                    {
                                        "name": "SalePrice"
                                    }
                                ]
                            },
                            "data": [
                                {
                                    "Name": "LL Mountain Seat Assembly",
                                    "ProductNumber": "SA-M198",
                                    "Manufacturer": "AdventureWorks",
                                    "ListPrice": "133.34",
                                    "SalePrice": "113.339000"
                                },
                                {
                                    "Name": "ML Mountain Seat Assembly",
                                    "ProductNumber": "SA-M237",
                                    "Manufacturer": "AdventureWorks",
                                    "ListPrice": "147.14",
                                    "SalePrice": "125.069000"
                                },
                                {
                                    "Name": "HL Mountain Seat Assembly",
                                    "ProductNumber": "SA-M687",
                                    "Manufacturer": "AdventureWorks",
                                    "ListPrice": "196.92",
                                    "SalePrice": "167.382000"
                                }
                            ]
                        },
                        "text/html": "<table><tr><th>Name</th><th>ProductNumber</th><th>Manufacturer</th><th>ListPrice</th><th>SalePrice</th></tr><tr><td>LL Mountain Seat Assembly</td><td>SA-M198</td><td>AdventureWorks</td><td>133.34</td><td>113.339000</td></tr><tr><td>ML Mountain Seat Assembly</td><td>SA-M237</td><td>AdventureWorks</td><td>147.14</td><td>125.069000</td></tr><tr><td>HL Mountain Seat Assembly</td><td>SA-M687</td><td>AdventureWorks</td><td>196.92</td><td>167.382000</td></tr></table>"
                    },
                    "metadata": {}
                }
            ],
            "execution_count": 8
        },
        {
            "cell_type": "markdown",
            "source": [
                "# **🟡⚡️ Tip 8 - INNER JOIN**\n",
                "\n",
                "JOINs are performed on multible tables to combine the rows based on a common column. Once the JOIN is succesful, we can retreive column from any table within the JOIN.\n",
                "\n",
                "In this tip, we are looking at INNER JOIN which returns just the matching columns of the joined tables. \n",
                "\n",
                "We will look into table aliasing using a keyword 'AS' (optional), that will be helpful while dealing with long table names. It is always advisable to use the table's short-version name as alias inorder to make better sence of our query. With practice I'm sure you will master aliasing.\n",
                "\n",
                "We will now INNER JOIN the Person and PersonPhone tables and retreive records that are common to both tables. Notice, the table alias for Person table is p and PersonPhone table is pp and we are retreiving BusinessEntityID,FIrstName, LastName from Person (p) table and PhoneNumber from PersonPhone (pp) table.\n",
                "\n",
                "The syntax for any query is\n",
                "\n",
                "SELECT column1\\_name, column2\\_name, etc\n",
                "\n",
                "FROM table1\\_name\n",
                "\n",
                "INNER JOIN table2\\_name\n",
                "\n",
                "ON table1\\_name.column\\_name = table2\\_name.column\\_name\n",
                "\n",
                ";\n",
                "\n",
                "```SQL\n",
                "USE AdventureWorks2022;\n",
                "GO\n",
                "\n",
                "SELECT p.BusinessEntityID\n",
                "        ,p.FirstName\n",
                "        ,p.LastName\n",
                "        ,pp.PhoneNumber\n",
                "FROM Person.Person AS p\n",
                "    INNER JOIN Person.PersonPhone AS pp --Can write just JOIN which is 'INNER JOIN' by default\n",
                "    ON p.BusinessEntityID = pp.BusinessEntityID\n",
                ";\n",
                "\n",
                "```"
            ],
            "metadata": {
                "language": "sql",
                "azdata_cell_guid": "4434f7c3-9bb4-44ef-8da8-50f439600480"
            },
            "attachments": {}
        },
        {
            "cell_type": "code",
            "source": [
                "USE AdventureWorks2022;\r\n",
                "GO\r\n",
                "--with AS keyword on table aliasing\r\n",
                "SELECT TOP (3) p.BusinessEntityID\r\n",
                "\t\t,p.FirstName\r\n",
                "\t\t,p.LastName\r\n",
                "\t\t,pp.PhoneNumber\r\n",
                "FROM Person.Person AS p\r\n",
                "\tINNER JOIN Person.PersonPhone AS pp --Can write just JOIN which is 'INNER JOIN' by default\r\n",
                "\t    ON p.BusinessEntityID = pp.BusinessEntityID\r\n",
                ";"
            ],
            "metadata": {
                "language": "sql",
                "azdata_cell_guid": "c73c876c-2602-42f6-b70b-7a652a73ed43"
            },
            "outputs": [
                {
                    "output_type": "display_data",
                    "data": {
                        "text/html": "Commands completed successfully."
                    },
                    "metadata": {}
                },
                {
                    "output_type": "display_data",
                    "data": {
                        "text/html": "(3 rows affected)"
                    },
                    "metadata": {}
                },
                {
                    "output_type": "display_data",
                    "data": {
                        "text/html": "Total execution time: 00:00:00.031"
                    },
                    "metadata": {}
                },
                {
                    "output_type": "execute_result",
                    "execution_count": 10,
                    "data": {
                        "application/vnd.dataresource+json": {
                            "schema": {
                                "fields": [
                                    {
                                        "name": "BusinessEntityID"
                                    },
                                    {
                                        "name": "FirstName"
                                    },
                                    {
                                        "name": "LastName"
                                    },
                                    {
                                        "name": "PhoneNumber"
                                    }
                                ]
                            },
                            "data": [
                                {
                                    "BusinessEntityID": "1",
                                    "FirstName": "Ken",
                                    "LastName": "Sánchez",
                                    "PhoneNumber": "697-555-0142"
                                },
                                {
                                    "BusinessEntityID": "2",
                                    "FirstName": "Terri",
                                    "LastName": "Duffy",
                                    "PhoneNumber": "819-555-0175"
                                },
                                {
                                    "BusinessEntityID": "3",
                                    "FirstName": "Roberto",
                                    "LastName": "Tamburello",
                                    "PhoneNumber": "212-555-0187"
                                }
                            ]
                        },
                        "text/html": "<table><tr><th>BusinessEntityID</th><th>FirstName</th><th>LastName</th><th>PhoneNumber</th></tr><tr><td>1</td><td>Ken</td><td>Sánchez</td><td>697-555-0142</td></tr><tr><td>2</td><td>Terri</td><td>Duffy</td><td>819-555-0175</td></tr><tr><td>3</td><td>Roberto</td><td>Tamburello</td><td>212-555-0187</td></tr></table>"
                    },
                    "metadata": {}
                }
            ],
            "execution_count": 10
        },
        {
            "cell_type": "markdown",
            "source": [
                "# **🟡⚡️ Tip 9 - LEFT OUTER JOIN,** **RIGHT OUTER JOIN and FULL OUTER JOIN**\n",
                "\n",
                "LEFT OUTER JOIN - As the name indicate, this retreives all the matching records from the table on the LEFT side of the join.\n",
                "\n",
                "RIGHT OUTER JOIN - T<span style=\"color: var(--vscode-foreground);\">his retreives all the matching records from the table on the RIGHT side of the join.</span>\n",
                "\n",
                "FULL OUTER JOIN retreives all the records that match from either LEFT or RIGHT tables. Hence, the result set for this join is relativesly big. When there is no column data to retreive from one of the JOIN tables, '**_null_**' is retreived as the column data. \n",
                "\n",
                "'**_null_**' - does not mean zero value or a space. It simply means that was an optional column type which was left blank during record entry.\n",
                "\n",
                "<span style=\"color: var(--vscode-foreground);\">It is imperative to understand the logic and requirements before using LEFT, RIGHT&nbsp;</span> <span style=\"color: var(--vscode-foreground);\">or</span> <span style=\"color: var(--vscode-foreground);\">FULL&nbsp;</span> <span style=\"color: var(--vscode-foreground);\">joins.</span>\n",
                "\n",
                "The syntax for any query is\n",
                "\n",
                "SELECT column1\\_name, column2\\_name, etc\n",
                "\n",
                "FROM table1\\_name\n",
                "\n",
                "LEFT/RIGHT/CROSS OUTER JOIN table2\\_name\n",
                "\n",
                "ON table1\\_name.column\\_name = table2\\_name.column\\_name\n",
                "\n",
                ";\n",
                "\n",
                "```SQL\n",
                "USE AdventureWorks2022;\n",
                "GO\n",
                "--LEFT OUTER JOIN\n",
                "SELECT p.BusinessEntityID\n",
                "        ,p.PersonType\n",
                "        ,p.FirstName\n",
                "        ,p.LastName\n",
                "        ,e.JobTitle\n",
                "FROM Person.Person AS p\n",
                "    LEFT OUTER JOIN HumanResources.Employee AS e --can be RIGHT OUTER JOIN or FULL OUTER JOIN based on requirements\n",
                "    ON p.BusinessEntityID = e.BusinessEntityID\n",
                "ORDER BY p.BusinessEntityID DESC\n",
                ";\n",
                "\n",
                "```"
            ],
            "metadata": {
                "language": "sql",
                "azdata_cell_guid": "e889f109-73ef-4305-8bda-7b5913fcde2c"
            },
            "attachments": {}
        },
        {
            "cell_type": "code",
            "source": [
                "USE AdventureWorks2022;\r\n",
                "GO\r\n",
                "--LEFT/RIGHT/FULL OUTER JOIN\r\n",
                "SELECT TOP (3) p.BusinessEntityID\r\n",
                "\t\t,p.PersonType\r\n",
                "\t\t,p.FirstName\r\n",
                "\t\t,p.LastName\r\n",
                "\t\t,e.JobTitle\r\n",
                "FROM Person.Person AS p\r\n",
                "\tLEFT OUTER JOIN HumanResources.Employee AS e --can be RIGHT OUTER JOIN or FULL OUTER JOIN based on requirements\r\n",
                "\tON p.BusinessEntityID = e.BusinessEntityID\r\n",
                "ORDER BY p.BusinessEntityID DESC\r\n",
                ";"
            ],
            "metadata": {
                "azdata_cell_guid": "a6057e79-eeb6-4b6f-ab6c-b68cd38af67c",
                "language": "sql"
            },
            "outputs": [
                {
                    "output_type": "display_data",
                    "data": {
                        "text/html": "Commands completed successfully."
                    },
                    "metadata": {}
                },
                {
                    "output_type": "display_data",
                    "data": {
                        "text/html": "(3 rows affected)"
                    },
                    "metadata": {}
                },
                {
                    "output_type": "display_data",
                    "data": {
                        "text/html": "Total execution time: 00:00:00.038"
                    },
                    "metadata": {}
                },
                {
                    "output_type": "execute_result",
                    "execution_count": 26,
                    "data": {
                        "application/vnd.dataresource+json": {
                            "schema": {
                                "fields": [
                                    {
                                        "name": "BusinessEntityID"
                                    },
                                    {
                                        "name": "PersonType"
                                    },
                                    {
                                        "name": "FirstName"
                                    },
                                    {
                                        "name": "LastName"
                                    },
                                    {
                                        "name": "JobTitle"
                                    }
                                ]
                            },
                            "data": [
                                {
                                    "BusinessEntityID": "20777",
                                    "PersonType": "IN",
                                    "FirstName": "Crystal",
                                    "LastName": "Hu",
                                    "JobTitle": "NULL"
                                },
                                {
                                    "BusinessEntityID": "20776",
                                    "PersonType": "IN",
                                    "FirstName": "Crystal",
                                    "LastName": "Zheng",
                                    "JobTitle": "NULL"
                                },
                                {
                                    "BusinessEntityID": "20775",
                                    "PersonType": "IN",
                                    "FirstName": "Crystal",
                                    "LastName": "He",
                                    "JobTitle": "NULL"
                                }
                            ]
                        },
                        "text/html": "<table><tr><th>BusinessEntityID</th><th>PersonType</th><th>FirstName</th><th>LastName</th><th>JobTitle</th></tr><tr><td>20777</td><td>IN</td><td>Crystal</td><td>Hu</td><td>NULL</td></tr><tr><td>20776</td><td>IN</td><td>Crystal</td><td>Zheng</td><td>NULL</td></tr><tr><td>20775</td><td>IN</td><td>Crystal</td><td>He</td><td>NULL</td></tr></table>"
                    },
                    "metadata": {}
                }
            ],
            "execution_count": 26
        },
        {
            "cell_type": "markdown",
            "source": [
                "# **🟡⚡️ Tip 10 - Variables**\n",
                "\n",
                "Variables are used to assign for parameters like in any programming language. They need to be DECLARE first, then SET values and called inside the query. In thgis query, we are using variables to set the number of rows to return and the colour to filter. \n",
                "\n",
                "```SQL\n",
                "USE AdventureWorks2022;\n",
                "GO\n",
                "\n",
                "--Declare variables\n",
                "DECLARE @NoOfRows INT \n",
                "DECLARE @Color VARCHAR(20)\n",
                "\n",
                "--Set values to the variables\n",
                "SET @NoOfRows = 3;\n",
                "SET @Color = 'Red';\n",
                "\n",
                "--calling variables in the query\n",
                "SELECT TOP (@NoOfRows) p.ProductID\n",
                "\t\t,p.Name\n",
                "\t\t,p.ProductNumber\n",
                "\t\t,p.Color\n",
                "\t\t,p.ListPrice\n",
                "FROM Production.Product p\n",
                "WHERE p.Color = @Color\n",
                ";\n",
                "\n",
                "```"
            ],
            "metadata": {
                "azdata_cell_guid": "42142256-f1b8-4f84-a909-e3e56fbc45dd"
            },
            "attachments": {}
        },
        {
            "cell_type": "code",
            "source": [
                "--Declare variables\r\n",
                "DECLARE @NoOfRows INT \r\n",
                "DECLARE @Color VARCHAR(20)\r\n",
                "\r\n",
                "--Set values to the variables\r\n",
                "SET @NoOfRows = 3;\r\n",
                "SET @Color = 'Red';\r\n",
                "\r\n",
                "--calling variables in the query\r\n",
                "SELECT TOP (@NoOfRows) p.ProductID\r\n",
                "\t\t,p.Name\r\n",
                "\t\t,p.ProductNumber\r\n",
                "\t\t,p.Color\r\n",
                "\t\t,p.ListPrice\r\n",
                "FROM Production.Product p\r\n",
                "WHERE p.Color = @Color\r\n",
                ";"
            ],
            "metadata": {
                "azdata_cell_guid": "1a193306-7d4c-47bf-b74f-934b32de5a7d",
                "language": "sql"
            },
            "outputs": [
                {
                    "output_type": "display_data",
                    "data": {
                        "text/html": "(3 rows affected)"
                    },
                    "metadata": {}
                },
                {
                    "output_type": "display_data",
                    "data": {
                        "text/html": "Total execution time: 00:00:00.056"
                    },
                    "metadata": {}
                },
                {
                    "output_type": "execute_result",
                    "execution_count": 27,
                    "data": {
                        "application/vnd.dataresource+json": {
                            "schema": {
                                "fields": [
                                    {
                                        "name": "ProductID"
                                    },
                                    {
                                        "name": "Name"
                                    },
                                    {
                                        "name": "ProductNumber"
                                    },
                                    {
                                        "name": "Color"
                                    },
                                    {
                                        "name": "ListPrice"
                                    }
                                ]
                            },
                            "data": [
                                {
                                    "ProductID": "706",
                                    "Name": "HL Road Frame - Red, 58",
                                    "ProductNumber": "FR-R92R-58",
                                    "Color": "Red",
                                    "ListPrice": "1431.50"
                                },
                                {
                                    "ProductID": "707",
                                    "Name": "Sport-100 Helmet, Red",
                                    "ProductNumber": "HL-U509-R",
                                    "Color": "Red",
                                    "ListPrice": "34.99"
                                },
                                {
                                    "ProductID": "717",
                                    "Name": "HL Road Frame - Red, 62",
                                    "ProductNumber": "FR-R92R-62",
                                    "Color": "Red",
                                    "ListPrice": "1431.50"
                                }
                            ]
                        },
                        "text/html": "<table><tr><th>ProductID</th><th>Name</th><th>ProductNumber</th><th>Color</th><th>ListPrice</th></tr><tr><td>706</td><td>HL Road Frame - Red, 58</td><td>FR-R92R-58</td><td>Red</td><td>1431.50</td></tr><tr><td>707</td><td>Sport-100 Helmet, Red</td><td>HL-U509-R</td><td>Red</td><td>34.99</td></tr><tr><td>717</td><td>HL Road Frame - Red, 62</td><td>FR-R92R-62</td><td>Red</td><td>1431.50</td></tr></table>"
                    },
                    "metadata": {}
                }
            ],
            "execution_count": 27
        },
        {
            "cell_type": "markdown",
            "source": [
                "# **🟡⚡️ Tip 11 - GROUP BY and Column Aliasing**\n",
                "\n",
                "GROUP BY statement is used to group rows that have same values mentioned in the statement. The query below is to fetch how many adresses are listed for each city. \n",
                "\n",
                "In the earlier tips on JOIN, we looked into table aliasing and we will now use column aliases on the count using keyword 'AS'. \n",
                "\n",
                "The syntax for any query is\n",
                "\n",
                "SELECT column1\\_name, column2\\_name, etc\n",
                "\n",
                "FROM table1\\_name\n",
                "\n",
                "GROUP BY column\\_name\n",
                "\n",
                ";\n",
                "\n",
                "```SQL\n",
                "USE AdventureWorks2022;\n",
                "GO\n",
                "\n",
                "SELECT a.City\n",
                "        ,COUNT(*) AS 'AddressCount'\n",
                "FROM Person.Address a\n",
                "GROUP BY a.City\n",
                "ORDER BY AddressCount DESC\n",
                ";\n",
                "\n",
                "```"
            ],
            "metadata": {
                "azdata_cell_guid": "a044d88a-f94e-48ce-87d7-63b8f59b4287"
            },
            "attachments": {}
        },
        {
            "cell_type": "code",
            "source": [
                "USE AdventureWorks2022;\r\n",
                "GO\r\n",
                "\r\n",
                "SELECT TOP (5) a.City\r\n",
                "\t\t,COUNT(*) AS 'AddressCount'\r\n",
                "FROM Person.Address a\r\n",
                "GROUP BY a.City\r\n",
                "ORDER BY AddressCount DESC\r\n",
                ";"
            ],
            "metadata": {
                "azdata_cell_guid": "71535e91-7abc-44f6-86df-8d1d458c22e9",
                "language": "sql"
            },
            "outputs": [
                {
                    "output_type": "display_data",
                    "data": {
                        "text/html": "Commands completed successfully."
                    },
                    "metadata": {}
                },
                {
                    "output_type": "display_data",
                    "data": {
                        "text/html": "(5 rows affected)"
                    },
                    "metadata": {}
                },
                {
                    "output_type": "display_data",
                    "data": {
                        "text/html": "Total execution time: 00:00:00.042"
                    },
                    "metadata": {}
                },
                {
                    "output_type": "execute_result",
                    "execution_count": 23,
                    "data": {
                        "application/vnd.dataresource+json": {
                            "schema": {
                                "fields": [
                                    {
                                        "name": "City"
                                    },
                                    {
                                        "name": "AddressCount"
                                    }
                                ]
                            },
                            "data": [
                                {
                                    "City": "London",
                                    "AddressCount": "434"
                                },
                                {
                                    "City": "Paris",
                                    "AddressCount": "398"
                                },
                                {
                                    "City": "Burien",
                                    "AddressCount": "215"
                                },
                                {
                                    "City": "Concord",
                                    "AddressCount": "214"
                                },
                                {
                                    "City": "Bellingham",
                                    "AddressCount": "213"
                                }
                            ]
                        },
                        "text/html": "<table><tr><th>City</th><th>AddressCount</th></tr><tr><td>London</td><td>434</td></tr><tr><td>Paris</td><td>398</td></tr><tr><td>Burien</td><td>215</td></tr><tr><td>Concord</td><td>214</td></tr><tr><td>Bellingham</td><td>213</td></tr></table>"
                    },
                    "metadata": {}
                }
            ],
            "execution_count": 23
        },
        {
            "cell_type": "markdown",
            "source": [
                "# **🟡⚡️ Tip 12 - AGGREGATE Functions**\n",
                "\n",
                "AGGREGATE functions are used to perform calculation on column values returning an individual value according to the GROUP BY clause. Some common functions are:\n",
                "\n",
                "- MIN( ) - retreives the smallest of column value\n",
                "- MAX( ) - retreives the biggest of column value\n",
                "- AVG( ) - retreives the average of column value\n",
                "- SUM( ) - retreives the sum of column value\n",
                "- COUNT( ) - retreives the count of column value\n",
                "\n",
                "```SQL\n",
                "SELECT soh.CustomerID\n",
                "    ,MIN(soh.TotalDue) AS 'LowestAmount'\n",
                "    ,MAX(soh.TotalDue) AS 'HighestAmount'\n",
                "    ,AVG(soh.TotalDue) AS 'AvgSpent'\n",
                "    ,SUM(soh.Freight) AS 'TotalFreightCharges'\n",
                "    ,COUNT(soh.SalesOrderID) AS 'TotalSalesCount'\n",
                "FROM Sales.SalesOrderHeader soh\n",
                "GROUP BY soh.CustomerID\n",
                "ORDER BY COUNT(soh.SalesOrderID) DESC\n",
                ";\n",
                "\n",
                "```"
            ],
            "metadata": {
                "language": "sql",
                "azdata_cell_guid": "4f6bd9f0-66ba-4468-8fab-283b1d8f4ec7"
            },
            "attachments": {}
        },
        {
            "cell_type": "code",
            "source": [
                "SELECT TOP (3) soh.CustomerID\r\n",
                "\t\t,MIN(soh.TotalDue) AS 'LowestAmount'\r\n",
                "\t\t,MAX(soh.TotalDue) AS 'HighestAmount'\r\n",
                "\t\t,AVG(soh.TotalDue) AS 'AvgSpent'\r\n",
                "\t\t,SUM(soh.Freight) AS 'TotalFreightCharges'\r\n",
                "\t\t,COUNT(soh.SalesOrderID) AS 'TotalSalesCount'\r\n",
                "FROM Sales.SalesOrderHeader soh\r\n",
                "GROUP BY soh.CustomerID\r\n",
                "ORDER BY COUNT(soh.SalesOrderID) DESC\r\n",
                ";"
            ],
            "metadata": {
                "azdata_cell_guid": "7e8129d0-a659-4651-8ee5-564ddc8153a8",
                "language": "sql"
            },
            "outputs": [
                {
                    "output_type": "display_data",
                    "data": {
                        "text/html": "(3 rows affected)"
                    },
                    "metadata": {}
                },
                {
                    "output_type": "display_data",
                    "data": {
                        "text/html": "Total execution time: 00:00:00.102"
                    },
                    "metadata": {}
                },
                {
                    "output_type": "execute_result",
                    "execution_count": 20,
                    "data": {
                        "application/vnd.dataresource+json": {
                            "schema": {
                                "fields": [
                                    {
                                        "name": "CustomerID"
                                    },
                                    {
                                        "name": "LowestAmount"
                                    },
                                    {
                                        "name": "HighestAmount"
                                    },
                                    {
                                        "name": "AvgSpent"
                                    },
                                    {
                                        "name": "TotalFreightCharges"
                                    },
                                    {
                                        "name": "TotalSalesCount"
                                    }
                                ]
                            },
                            "data": [
                                {
                                    "CustomerID": "11176",
                                    "LowestAmount": "2.5305",
                                    "HighestAmount": "159.6394",
                                    "AvgSpent": "52.0932",
                                    "TotalFreightCharges": "33.001",
                                    "TotalSalesCount": "28"
                                },
                                {
                                    "CustomerID": "11091",
                                    "LowestAmount": "2.5305",
                                    "HighestAmount": "159.6615",
                                    "AvgSpent": "46.936",
                                    "TotalFreightCharges": "29.7339",
                                    "TotalSalesCount": "28"
                                },
                                {
                                    "CustomerID": "11287",
                                    "LowestAmount": "2.5305",
                                    "HighestAmount": "106.1574",
                                    "AvgSpent": "47.7634",
                                    "TotalFreightCharges": "29.1775",
                                    "TotalSalesCount": "27"
                                }
                            ]
                        },
                        "text/html": "<table><tr><th>CustomerID</th><th>LowestAmount</th><th>HighestAmount</th><th>AvgSpent</th><th>TotalFreightCharges</th><th>TotalSalesCount</th></tr><tr><td>11176</td><td>2.5305</td><td>159.6394</td><td>52.0932</td><td>33.001</td><td>28</td></tr><tr><td>11091</td><td>2.5305</td><td>159.6615</td><td>46.936</td><td>29.7339</td><td>28</td></tr><tr><td>11287</td><td>2.5305</td><td>106.1574</td><td>47.7634</td><td>29.1775</td><td>27</td></tr></table>"
                    },
                    "metadata": {}
                }
            ],
            "execution_count": 20
        },
        {
            "cell_type": "markdown",
            "source": [
                "# **🟡⚡️ Tip 13 - STRING Functions**\n",
                "\n",
                "STRING functions are used to manipulate column values returning required string value mentioned in the arguments. Some common functions are:\n",
                "\n",
                "- CONCAT( ) - concats different string columns\n",
                "- CONCAT\\_WS( ) - concats columns with a common seperator\n",
                "- UPPER, LOWER( ) - converts strings to Upper or Lower case\n",
                "- LEN( ) - returns the length of the string\n",
                "- TRIM( ) - removes extra spaces \n",
                "- SUBSTRING( ) - returns specified number of characters from the specified position. **_Note_**: SQL positions start from \\[1\\]. Observe the query below.\n",
                "- GREATEST( ) - Returns the highest first-letter among the arguments i.e., in descending order\n",
                "- LEAST( ) - Returns the least first-letter among the arguments i.e., in ascending order\n",
                "\n",
                "```SQL\n",
                "USE AdventureWorks2022;\n",
                "GO\n",
                "\n",
                "SELECT CONCAT(p.FirstName,' ',p.MiddleName, ' ' ,p.LastName) AS 'CustomerFullName' --inserts extra space when there is no middle name\n",
                "        ,CONCAT_WS(' ', p.FirstName, p.MiddleName, p.LastName) AS 'WithSeperator'\n",
                "        ,UPPER(CONCAT(p.FirstName,' ',p.LastName)) AS 'Uppercase'\n",
                "        ,LOWER(CONCAT(p.FirstName,' ',p.LastName)) AS 'Lowercase'\n",
                "        ,LEN(CONCAT(p.FirstName,' ',p.LastName)) AS 'Length'\n",
                "        ,LEFT(CONCAT(p.FirstName,' ',p.LastName), 3) AS 'First3Letters'\n",
                "        ,RIGHT(CONCAT(p.FirstName,' ',p.LastName), 3) AS 'Last3Letters'\n",
                "        ,TRIM(CONCAT(p.FirstName,' ',p.LastName)) AS 'TrimmedName' --removes extra spaces. Other fns LTRIM, RTRIM\n",
                "        ,SUBSTRING(p.FirstName, 1, 5) AS 'Using Substring'\n",
                "        ,GREATEST(FirstName, LastName) AS 'DescendingAlphabetically'\n",
                "        ,LEAST(FirstName, LastName) AS 'AscendingAlphabetically'\n",
                "FROM Person.Person p\n",
                ";\n",
                "\n",
                "```"
            ],
            "metadata": {
                "language": "sql",
                "azdata_cell_guid": "8276aa72-527c-4496-b2c1-987106405de1"
            },
            "attachments": {}
        },
        {
            "cell_type": "code",
            "source": [
                "USE AdventureWorks2022;\r\n",
                "GO\r\n",
                "\r\n",
                "SELECT TOP (3) CONCAT(p.FirstName,' ',p.MiddleName, ' ' ,p.LastName) AS 'CustomerFullName' --inserts extra space when there is no middle name\r\n",
                "\t\t,CONCAT_WS(' ', p.FirstName, p.MiddleName, p.LastName) AS 'WithSeperator'\r\n",
                "\t\t,UPPER(CONCAT(p.FirstName,' ',p.LastName)) AS 'Uppercase'\r\n",
                "\t\t,LOWER(CONCAT(p.FirstName,' ',p.LastName)) AS 'Lowercase'\r\n",
                "\t\t,LEN(CONCAT(p.FirstName,' ',p.LastName)) AS 'Length'\r\n",
                "\t\t,LEFT(CONCAT(p.FirstName,' ',p.LastName), 3) AS 'First3Letters'\r\n",
                "\t\t,RIGHT(CONCAT(p.FirstName,' ',p.LastName), 3) AS 'Last3Letters'\r\n",
                "\t\t,TRIM(CONCAT(p.FirstName,' ',p.LastName)) AS 'TrimmedName' --removes extra spaces. Other fns LTRIM, RTRIM\r\n",
                "\t\t,SUBSTRING(p.FirstName, 1, 5) AS 'Using Substring'\r\n",
                "\t\t,GREATEST(FirstName, LastName) AS 'DescendingAlphabetically'\r\n",
                "\t\t,LEAST(FirstName, LastName) AS 'AscendingAlphabetically'\r\n",
                "FROM Person.Person p\r\n",
                ";"
            ],
            "metadata": {
                "azdata_cell_guid": "57e4074e-2123-439b-bb53-f0450bc0c7b7",
                "language": "sql",
                "tags": []
            },
            "outputs": [
                {
                    "output_type": "display_data",
                    "data": {
                        "text/html": "Commands completed successfully."
                    },
                    "metadata": {}
                },
                {
                    "output_type": "display_data",
                    "data": {
                        "text/html": "(3 rows affected)"
                    },
                    "metadata": {}
                },
                {
                    "output_type": "display_data",
                    "data": {
                        "text/html": "Total execution time: 00:00:00.004"
                    },
                    "metadata": {}
                },
                {
                    "output_type": "execute_result",
                    "execution_count": 2,
                    "data": {
                        "application/vnd.dataresource+json": {
                            "schema": {
                                "fields": [
                                    {
                                        "name": "CustomerFullName"
                                    },
                                    {
                                        "name": "WithSeperator"
                                    },
                                    {
                                        "name": "Uppercase"
                                    },
                                    {
                                        "name": "Lowercase"
                                    },
                                    {
                                        "name": "Length"
                                    },
                                    {
                                        "name": "First3Letters"
                                    },
                                    {
                                        "name": "Last3Letters"
                                    },
                                    {
                                        "name": "TrimmedName"
                                    },
                                    {
                                        "name": "Using Substring"
                                    },
                                    {
                                        "name": "DescendingAlphabetically"
                                    },
                                    {
                                        "name": "AscendingAlphabetically"
                                    }
                                ]
                            },
                            "data": [
                                {
                                    "CustomerFullName": "Syed E Abbas",
                                    "WithSeperator": "Syed E Abbas",
                                    "Uppercase": "SYED ABBAS",
                                    "Lowercase": "syed abbas",
                                    "Length": "10",
                                    "First3Letters": "Sye",
                                    "Last3Letters": "bas",
                                    "TrimmedName": "Syed Abbas",
                                    "Using Substring": "Syed",
                                    "DescendingAlphabetically": "Syed",
                                    "AscendingAlphabetically": "Abbas"
                                },
                                {
                                    "CustomerFullName": "Catherine R. Abel",
                                    "WithSeperator": "Catherine R. Abel",
                                    "Uppercase": "CATHERINE ABEL",
                                    "Lowercase": "catherine abel",
                                    "Length": "14",
                                    "First3Letters": "Cat",
                                    "Last3Letters": "bel",
                                    "TrimmedName": "Catherine Abel",
                                    "Using Substring": "Cathe",
                                    "DescendingAlphabetically": "Catherine",
                                    "AscendingAlphabetically": "Abel"
                                },
                                {
                                    "CustomerFullName": "Kim  Abercrombie",
                                    "WithSeperator": "Kim Abercrombie",
                                    "Uppercase": "KIM ABERCROMBIE",
                                    "Lowercase": "kim abercrombie",
                                    "Length": "15",
                                    "First3Letters": "Kim",
                                    "Last3Letters": "bie",
                                    "TrimmedName": "Kim Abercrombie",
                                    "Using Substring": "Kim",
                                    "DescendingAlphabetically": "Kim",
                                    "AscendingAlphabetically": "Abercrombie"
                                }
                            ]
                        },
                        "text/html": "<table><tr><th>CustomerFullName</th><th>WithSeperator</th><th>Uppercase</th><th>Lowercase</th><th>Length</th><th>First3Letters</th><th>Last3Letters</th><th>TrimmedName</th><th>Using Substring</th><th>DescendingAlphabetically</th><th>AscendingAlphabetically</th></tr><tr><td>Syed E Abbas</td><td>Syed E Abbas</td><td>SYED ABBAS</td><td>syed abbas</td><td>10</td><td>Sye</td><td>bas</td><td>Syed Abbas</td><td>Syed</td><td>Syed</td><td>Abbas</td></tr><tr><td>Catherine R. Abel</td><td>Catherine R. Abel</td><td>CATHERINE ABEL</td><td>catherine abel</td><td>14</td><td>Cat</td><td>bel</td><td>Catherine Abel</td><td>Cathe</td><td>Catherine</td><td>Abel</td></tr><tr><td>Kim  Abercrombie</td><td>Kim Abercrombie</td><td>KIM ABERCROMBIE</td><td>kim abercrombie</td><td>15</td><td>Kim</td><td>bie</td><td>Kim Abercrombie</td><td>Kim</td><td>Kim</td><td>Abercrombie</td></tr></table>"
                    },
                    "metadata": {}
                }
            ],
            "execution_count": 2
        },
        {
            "cell_type": "markdown",
            "source": [
                "# **🟡⚡️ Tip 14 - Mathematical Functions**\n",
                "\n",
                "Mathematical functions are used to alter column values and return results based on the criteria specified in the arguments. Some common functions are:\n",
                "\n",
                "- <span style=\"color: var(--vscode-foreground);\">ROUND( ) - Rounds&nbsp; the column data to the specified precision as the second argument. Precision can be positive or a negative number. Positive precision number rounds the values after the decimal point. Negative precision number rounds the value before decimal point.</span>\n",
                "    \n",
                "- CEILING( ) - Converts the decimal values to the next highest number\n",
                "    \n",
                "- FLOOR( ) - <span style=\"color: var(--vscode-foreground);\">Converts the decimal values to the previous lowest number</span>\n",
                "    \n",
                "\n",
                "Let's look at the query first and for better understanding practise the precision arguments with different values (positive and negative). \n",
                "\n",
                "```SQL\n",
                "USE AdventureWorks2022;\n",
                "GO \n",
                "\n",
                "SELECT sp.BusinessEntityID\n",
                "        ,sp.SalesYTD\n",
                "        ,ROUND(sp.SalesYTD, 2) AS 'Round2'\n",
                "        ,ROUND(sp.SalesYTD, -2) AS 'Round100'\n",
                "        ,CEILING(sp.SalesYTD) AS 'RoundCeiling'\n",
                "        ,FLOOR(sp.SalesYTD) AS 'RoundFloor'\n",
                "FROM Sales.SalesPerson sp\n",
                ";\n",
                "\n",
                "```"
            ],
            "metadata": {
                "azdata_cell_guid": "a1faa85f-4420-4892-94e4-02adfd50fe20"
            },
            "attachments": {}
        },
        {
            "cell_type": "code",
            "source": [
                "USE AdventureWorks2022;\r\n",
                "GO\r\n",
                "\r\n",
                "SELECT TOP (3) sp.BusinessEntityID\r\n",
                "\t\t,sp.SalesYTD\r\n",
                "\t\t,ROUND(sp.SalesYTD, 2) AS 'Round2'\r\n",
                "\t\t,ROUND(sp.SalesYTD, -2) AS 'Round100'\r\n",
                "\t\t,CEILING(sp.SalesYTD) AS 'RoundCeiling'\r\n",
                "\t\t,FLOOR(sp.SalesYTD) AS 'RoundFloor'\r\n",
                "FROM Sales.SalesPerson sp\r\n",
                ";"
            ],
            "metadata": {
                "azdata_cell_guid": "22088763-661e-4330-893b-02d7a578af79",
                "language": "sql"
            },
            "outputs": [
                {
                    "output_type": "display_data",
                    "data": {
                        "text/html": "Commands completed successfully."
                    },
                    "metadata": {}
                },
                {
                    "output_type": "display_data",
                    "data": {
                        "text/html": "(3 rows affected)"
                    },
                    "metadata": {}
                },
                {
                    "output_type": "display_data",
                    "data": {
                        "text/html": "Total execution time: 00:00:00.063"
                    },
                    "metadata": {}
                },
                {
                    "output_type": "execute_result",
                    "execution_count": 2,
                    "data": {
                        "application/vnd.dataresource+json": {
                            "schema": {
                                "fields": [
                                    {
                                        "name": "BusinessEntityID"
                                    },
                                    {
                                        "name": "SalesYTD"
                                    },
                                    {
                                        "name": "Round2"
                                    },
                                    {
                                        "name": "Round100"
                                    },
                                    {
                                        "name": "RoundCeiling"
                                    },
                                    {
                                        "name": "RoundFloor"
                                    }
                                ]
                            },
                            "data": [
                                {
                                    "BusinessEntityID": "274",
                                    "SalesYTD": "559697.5639",
                                    "Round2": "559697.56",
                                    "Round100": "559700.00",
                                    "RoundCeiling": "559698.00",
                                    "RoundFloor": "559697.00"
                                },
                                {
                                    "BusinessEntityID": "275",
                                    "SalesYTD": "3763178.1787",
                                    "Round2": "3763178.18",
                                    "Round100": "3763200.00",
                                    "RoundCeiling": "3763179.00",
                                    "RoundFloor": "3763178.00"
                                },
                                {
                                    "BusinessEntityID": "276",
                                    "SalesYTD": "4251368.5497",
                                    "Round2": "4251368.55",
                                    "Round100": "4251400.00",
                                    "RoundCeiling": "4251369.00",
                                    "RoundFloor": "4251368.00"
                                }
                            ]
                        },
                        "text/html": "<table><tr><th>BusinessEntityID</th><th>SalesYTD</th><th>Round2</th><th>Round100</th><th>RoundCeiling</th><th>RoundFloor</th></tr><tr><td>274</td><td>559697.5639</td><td>559697.56</td><td>559700.00</td><td>559698.00</td><td>559697.00</td></tr><tr><td>275</td><td>3763178.1787</td><td>3763178.18</td><td>3763200.00</td><td>3763179.00</td><td>3763178.00</td></tr><tr><td>276</td><td>4251368.5497</td><td>4251368.55</td><td>4251400.00</td><td>4251369.00</td><td>4251368.00</td></tr></table>"
                    },
                    "metadata": {}
                }
            ],
            "execution_count": 2
        },
        {
            "cell_type": "markdown",
            "source": [
                "# **🟡⚡️ Tip 15 - Date Functions**\n",
                "\n",
                "In SQL, there are several DATE functions and variety of arguments on the same function retrieves completely different result sets. \n",
                "\n",
                "Some DATE functions are GETDATE( ), YEAR<span style=\"color: var(--vscode-foreground);\">( ), MONTH</span><span style=\"color: var(--vscode-foreground);\">( ), DATEDIFF</span><span style=\"color: var(--vscode-foreground);\">( )</span><span style=\"color: var(--vscode-foreground);\">, FORMAT</span><span style=\"color: var(--vscode-foreground);\">( ), DATEPART( ). Observe the example query to understand the functionality for these functions.</span>\n",
                "\n",
                "```SQL\n",
                "USE AdventureWorks2022;\n",
                "GO\n",
                "\n",
                "SELECT e.BusinessEntityID\n",
                "        ,e.HireDate\n",
                "        ,YEAR(e.HireDate) AS 'Year'\n",
                "        ,MONTH(e.HireDate)  AS 'Month'\n",
                "        ,DAY(e.HireDate) AS 'Day'\n",
                "        ,GETDATE() AS 'TodaysDate'\n",
                "        ,DATEDIFF(day,e.HireDate,GETDATE()) AS 'DaysSinceHire'\n",
                "        ,DATEDIFF(year,e.HireDate,GETDATE()) AS 'YearsSinceHire'\n",
                "        ,DATEADD(year, 10, e.HireDate) AS 'Anniversary'\n",
                "        ,FORMAT(e.HireDate, 'dddd,MMMM dd,yyyy') AS 'FullHireDate'\n",
                "        ,FORMAT(e.HireDate, 'dd,MMM ddd,yy') AS 'ShortHireDate'\n",
                "FROM HumanResources.Employee e\n",
                ";\n",
                "\n",
                "```"
            ],
            "metadata": {
                "azdata_cell_guid": "97cffd9f-1908-4996-a786-344f4c1ee4ea"
            },
            "attachments": {}
        },
        {
            "cell_type": "code",
            "source": [
                "USE AdventureWorks2022;\r\n",
                "GO\r\n",
                "\r\n",
                "SELECT TOP (3) e.BusinessEntityID\r\n",
                "\t\t,e.HireDate\r\n",
                "\t\t,YEAR(e.HireDate) AS 'Year'\r\n",
                "\t\t,MONTH(e.HireDate)  AS 'Month'\r\n",
                "\t\t,DAY(e.HireDate) AS 'Day'\r\n",
                "\t\t,GETDATE() AS 'TodaysDate'\r\n",
                "\t\t,DATEDIFF(day,e.HireDate,GETDATE()) AS 'DaysSinceHire'\r\n",
                "\t\t,DATEDIFF(year,e.HireDate,GETDATE()) AS 'YearsSinceHire'\r\n",
                "\t\t,DATEADD(year, 10, e.HireDate) AS 'Anniversary'\r\n",
                "\t\t,FORMAT(e.HireDate, 'dddd,MMMM dd,yyyy') AS 'FullHireDate'\r\n",
                "\t\t,FORMAT(e.HireDate, 'dd,MMM ddd,yy') AS 'ShortHireDate'\r\n",
                "FROM HumanResources.Employee e\r\n",
                ";"
            ],
            "metadata": {
                "azdata_cell_guid": "ae4a10f6-7b2f-4bd7-9e31-8d9a4a90b6a5",
                "language": "sql"
            },
            "outputs": [
                {
                    "output_type": "display_data",
                    "data": {
                        "text/html": "Commands completed successfully."
                    },
                    "metadata": {}
                },
                {
                    "output_type": "display_data",
                    "data": {
                        "text/html": "(3 rows affected)"
                    },
                    "metadata": {}
                },
                {
                    "output_type": "display_data",
                    "data": {
                        "text/html": "Total execution time: 00:00:00.017"
                    },
                    "metadata": {}
                },
                {
                    "output_type": "execute_result",
                    "execution_count": 4,
                    "data": {
                        "application/vnd.dataresource+json": {
                            "schema": {
                                "fields": [
                                    {
                                        "name": "BusinessEntityID"
                                    },
                                    {
                                        "name": "HireDate"
                                    },
                                    {
                                        "name": "Year"
                                    },
                                    {
                                        "name": "Month"
                                    },
                                    {
                                        "name": "Day"
                                    },
                                    {
                                        "name": "TodaysDate"
                                    },
                                    {
                                        "name": "DaysSinceHire"
                                    },
                                    {
                                        "name": "YearsSinceHire"
                                    },
                                    {
                                        "name": "Anniversary"
                                    },
                                    {
                                        "name": "FullHireDate"
                                    },
                                    {
                                        "name": "ShortHireDate"
                                    }
                                ]
                            },
                            "data": [
                                {
                                    "BusinessEntityID": "1",
                                    "HireDate": "2009-01-14",
                                    "Year": "2009",
                                    "Month": "1",
                                    "Day": "14",
                                    "TodaysDate": "2024-10-29 16:43:11.167",
                                    "DaysSinceHire": "5767",
                                    "YearsSinceHire": "15",
                                    "Anniversary": "2019-01-14",
                                    "FullHireDate": "Wednesday,January 14,2009",
                                    "ShortHireDate": "14,Jan Wed,09"
                                },
                                {
                                    "BusinessEntityID": "2",
                                    "HireDate": "2008-01-31",
                                    "Year": "2008",
                                    "Month": "1",
                                    "Day": "31",
                                    "TodaysDate": "2024-10-29 16:43:11.167",
                                    "DaysSinceHire": "6116",
                                    "YearsSinceHire": "16",
                                    "Anniversary": "2018-01-31",
                                    "FullHireDate": "Thursday,January 31,2008",
                                    "ShortHireDate": "31,Jan Thu,08"
                                },
                                {
                                    "BusinessEntityID": "3",
                                    "HireDate": "2007-11-11",
                                    "Year": "2007",
                                    "Month": "11",
                                    "Day": "11",
                                    "TodaysDate": "2024-10-29 16:43:11.167",
                                    "DaysSinceHire": "6197",
                                    "YearsSinceHire": "17",
                                    "Anniversary": "2017-11-11",
                                    "FullHireDate": "Sunday,November 11,2007",
                                    "ShortHireDate": "11,Nov Sun,07"
                                }
                            ]
                        },
                        "text/html": "<table><tr><th>BusinessEntityID</th><th>HireDate</th><th>Year</th><th>Month</th><th>Day</th><th>TodaysDate</th><th>DaysSinceHire</th><th>YearsSinceHire</th><th>Anniversary</th><th>FullHireDate</th><th>ShortHireDate</th></tr><tr><td>1</td><td>2009-01-14</td><td>2009</td><td>1</td><td>14</td><td>2024-10-29 16:43:11.167</td><td>5767</td><td>15</td><td>2019-01-14</td><td>Wednesday,January 14,2009</td><td>14,Jan Wed,09</td></tr><tr><td>2</td><td>2008-01-31</td><td>2008</td><td>1</td><td>31</td><td>2024-10-29 16:43:11.167</td><td>6116</td><td>16</td><td>2018-01-31</td><td>Thursday,January 31,2008</td><td>31,Jan Thu,08</td></tr><tr><td>3</td><td>2007-11-11</td><td>2007</td><td>11</td><td>11</td><td>2024-10-29 16:43:11.167</td><td>6197</td><td>17</td><td>2017-11-11</td><td>Sunday,November 11,2007</td><td>11,Nov Sun,07</td></tr></table>"
                    },
                    "metadata": {}
                }
            ],
            "execution_count": 4
        },
        {
            "cell_type": "markdown",
            "source": [
                "# **🟡⚡️ Tip 16 - NEWID Function**\n",
                "\n",
                "NEWID is an interesting function that creates a new column and populates a unique index values. This function is used when you have to retreive a random set of records as results for each execution thereby avoiding a selection bias. Run the below code block as many time as you need to observe the random result set.\n",
                "\n",
                "```SQL\n",
                "USE AdventureWorks2022;\n",
                "GO\n",
                "\n",
                "--NEWID() --> used to pull randon records from the table. results change for each execution\n",
                "--used to avoid selection bias\n",
                "SELECT wo.WorkOrderID\n",
                "        ,NEWID() AS 'NewID'\n",
                "FROM Production.WorkOrder wo\n",
                "ORDER BY NewID\n",
                ";\n",
                "\n",
                "```"
            ],
            "metadata": {
                "azdata_cell_guid": "5fdc3ec0-1450-4183-b6da-56d5330f1997"
            },
            "attachments": {}
        },
        {
            "cell_type": "code",
            "source": [
                "USE AdventureWorks2022;\r\n",
                "GO\r\n",
                "\r\n",
                "--NEWID() --> used to pull randon records from the table. results change for each execution\r\n",
                "--used to avoid selection bias\r\n",
                "SELECT TOP(3) wo.WorkOrderID\r\n",
                "\t\t,NEWID() AS 'NewID'\r\n",
                "FROM Production.WorkOrder wo\r\n",
                "ORDER BY NewID\r\n",
                ";"
            ],
            "metadata": {
                "azdata_cell_guid": "f4e56390-f7c3-42ce-a69f-dc2a5bbd998c",
                "language": "sql"
            },
            "outputs": [
                {
                    "output_type": "display_data",
                    "data": {
                        "text/html": "Commands completed successfully."
                    },
                    "metadata": {}
                },
                {
                    "output_type": "display_data",
                    "data": {
                        "text/html": "(3 rows affected)"
                    },
                    "metadata": {}
                },
                {
                    "output_type": "display_data",
                    "data": {
                        "text/html": "Total execution time: 00:00:00.032"
                    },
                    "metadata": {}
                },
                {
                    "output_type": "execute_result",
                    "execution_count": 6,
                    "data": {
                        "application/vnd.dataresource+json": {
                            "schema": {
                                "fields": [
                                    {
                                        "name": "WorkOrderID"
                                    },
                                    {
                                        "name": "NewID"
                                    }
                                ]
                            },
                            "data": [
                                {
                                    "WorkOrderID": "5184",
                                    "NewID": "15a9d54c-a8fd-4d09-9abd-000012ff7914"
                                },
                                {
                                    "WorkOrderID": "56941",
                                    "NewID": "e2c3c035-6563-49c4-a914-0002b2a20152"
                                },
                                {
                                    "WorkOrderID": "34721",
                                    "NewID": "06da49be-e324-4cca-9e43-00036f75a425"
                                }
                            ]
                        },
                        "text/html": "<table><tr><th>WorkOrderID</th><th>NewID</th></tr><tr><td>5184</td><td>15a9d54c-a8fd-4d09-9abd-000012ff7914</td></tr><tr><td>56941</td><td>e2c3c035-6563-49c4-a914-0002b2a20152</td></tr><tr><td>34721</td><td>06da49be-e324-4cca-9e43-00036f75a425</td></tr></table>"
                    },
                    "metadata": {}
                }
            ],
            "execution_count": 6
        },
        {
            "cell_type": "markdown",
            "source": [
                "# **🟡⚡️ Tip 17 - IIF Function**\n",
                "\n",
                "IIF function can be explained as 'IF - THEN - ELSE' statement. The syntax is IIF(boolean\\_condition, value\\_when\\_true, value\\_when\\_false) and GROUP BY clause can also be used in IIF statements.\n",
                "\n",
                "```SQL\n",
                "SELECT sp.BusinessEntityID\n",
                "        ,sp.SalesYTD\n",
                "        ,IIF(sp.SalesYTD > 2000000, 'MetGoals', 'NotMetGoals') AS 'Status'  --IIF(IF, THEN, ELSE)\n",
                "FROM Sales.SalesPerson sp\n",
                ";\n",
                "\n",
                "--We can use GROUP BY clause on IIF()\n",
                "SELECT IIF(sp.SalesYTD > 2000000, 'MetGoals', 'NotMetGoals') AS 'Status'  --IIF(IF, THEN, ELSE)\n",
                "        ,COUNT(*)\n",
                "FROM Sales.SalesPerson sp\n",
                "GROUP BY IIF(sp.SalesYTD > 2000000, 'MetGoals', 'NotMetGoals')\n",
                ";\n",
                "\n",
                "```"
            ],
            "metadata": {
                "azdata_cell_guid": "ed06f400-55e4-435b-b58c-ce0d128c4c1f"
            },
            "attachments": {}
        },
        {
            "cell_type": "code",
            "source": [
                "USE AdventureWorks2022;\r\n",
                "GO\r\n",
                "\r\n",
                "SELECT TOP (3) sp.BusinessEntityID\r\n",
                "\t\t,sp.SalesYTD\r\n",
                "\t\t,IIF(sp.SalesYTD > 2000000, 'MetGoals', 'NotMetGoals') AS 'Status'  --IIF(IF, THEN, ELSE)\r\n",
                "FROM Sales.SalesPerson sp\r\n",
                ";\r\n",
                "\r\n",
                "--We can use GROUP BY clause on IIF()\r\n",
                "SELECT IIF(sp.SalesYTD > 2000000, 'MetGoals', 'NotMetGoals') AS 'Status'  --IIF(IF, THEN, ELSE)\r\n",
                "\t\t,COUNT(*)\r\n",
                "FROM Sales.SalesPerson sp\r\n",
                "GROUP BY IIF(sp.SalesYTD > 2000000, 'MetGoals', 'NotMetGoals')\r\n",
                ";"
            ],
            "metadata": {
                "azdata_cell_guid": "fc5244ab-cd53-4933-93bc-a923ee7ca276",
                "language": "sql"
            },
            "outputs": [
                {
                    "output_type": "display_data",
                    "data": {
                        "text/html": "Commands completed successfully."
                    },
                    "metadata": {}
                },
                {
                    "output_type": "display_data",
                    "data": {
                        "text/html": "(3 rows affected)"
                    },
                    "metadata": {}
                },
                {
                    "output_type": "display_data",
                    "data": {
                        "text/html": "(2 rows affected)"
                    },
                    "metadata": {}
                },
                {
                    "output_type": "display_data",
                    "data": {
                        "text/html": "Total execution time: 00:00:00.015"
                    },
                    "metadata": {}
                },
                {
                    "output_type": "execute_result",
                    "execution_count": 7,
                    "data": {
                        "application/vnd.dataresource+json": {
                            "schema": {
                                "fields": [
                                    {
                                        "name": "BusinessEntityID"
                                    },
                                    {
                                        "name": "SalesYTD"
                                    },
                                    {
                                        "name": "Status"
                                    }
                                ]
                            },
                            "data": [
                                {
                                    "BusinessEntityID": "274",
                                    "SalesYTD": "559697.5639",
                                    "Status": "NotMetGoals"
                                },
                                {
                                    "BusinessEntityID": "275",
                                    "SalesYTD": "3763178.1787",
                                    "Status": "MetGoals"
                                },
                                {
                                    "BusinessEntityID": "276",
                                    "SalesYTD": "4251368.5497",
                                    "Status": "MetGoals"
                                }
                            ]
                        },
                        "text/html": "<table><tr><th>BusinessEntityID</th><th>SalesYTD</th><th>Status</th></tr><tr><td>274</td><td>559697.5639</td><td>NotMetGoals</td></tr><tr><td>275</td><td>3763178.1787</td><td>MetGoals</td></tr><tr><td>276</td><td>4251368.5497</td><td>MetGoals</td></tr></table>"
                    },
                    "metadata": {}
                },
                {
                    "output_type": "execute_result",
                    "execution_count": 7,
                    "data": {
                        "application/vnd.dataresource+json": {
                            "schema": {
                                "fields": [
                                    {
                                        "name": "Status"
                                    },
                                    {
                                        "name": "(No column name)"
                                    }
                                ]
                            },
                            "data": [
                                {
                                    "Status": "MetGoals",
                                    "(No column name)": "8"
                                },
                                {
                                    "Status": "NotMetGoals",
                                    "(No column name)": "9"
                                }
                            ]
                        },
                        "text/html": "<table><tr><th>Status</th><th>(No column name)</th></tr><tr><td>MetGoals</td><td>8</td></tr><tr><td>NotMetGoals</td><td>9</td></tr></table>"
                    },
                    "metadata": {}
                }
            ],
            "execution_count": 7
        },
        {
            "cell_type": "markdown",
            "source": [
                "# **🟡⚡️ Tip 18 - DISTINCT**\n",
                "\n",
                "DISTINCT is a reserved key word that limits the result set to have UNIQUE rows including null values which gets accounted once. This is used to see the a single entry of all column values when there is a chance of duplicate values. \n",
                "\n",
                "In this example we are fetching the Cities along with how many times they are repeated under the Person.Address table.\n",
                "\n",
                "```SQL\n",
                "SELECT DISTINCT City\n",
                "        ,COUNT(City) AS 'CityCount'\n",
                "FROM Person.Address\n",
                "GROUP BY City\n",
                "ORDER BY CityCount DESC\n",
                ";\n",
                "\n",
                "```"
            ],
            "metadata": {
                "language": "sql",
                "azdata_cell_guid": "7a7f8595-194e-4ad2-93eb-043506ce2966"
            },
            "attachments": {}
        },
        {
            "cell_type": "code",
            "source": [
                "SELECT DISTINCT TOP (3) City\r\n",
                "\t\t,COUNT(City) AS 'CityCount'\r\n",
                "FROM Person.Address\r\n",
                "GROUP BY City\r\n",
                "ORDER BY CityCount DESC\r\n",
                ";"
            ],
            "metadata": {
                "language": "sql",
                "azdata_cell_guid": "4a05a7d2-d9f9-4243-92bb-3bd039bfd590"
            },
            "outputs": [
                {
                    "output_type": "display_data",
                    "data": {
                        "text/html": "(3 rows affected)"
                    },
                    "metadata": {}
                },
                {
                    "output_type": "display_data",
                    "data": {
                        "text/html": "Total execution time: 00:00:00.051"
                    },
                    "metadata": {}
                },
                {
                    "output_type": "execute_result",
                    "execution_count": 1,
                    "data": {
                        "application/vnd.dataresource+json": {
                            "schema": {
                                "fields": [
                                    {
                                        "name": "City"
                                    },
                                    {
                                        "name": "CityCount"
                                    }
                                ]
                            },
                            "data": [
                                {
                                    "City": "London",
                                    "CityCount": "434"
                                },
                                {
                                    "City": "Paris",
                                    "CityCount": "398"
                                },
                                {
                                    "City": "Burien",
                                    "CityCount": "215"
                                }
                            ]
                        },
                        "text/html": "<table><tr><th>City</th><th>CityCount</th></tr><tr><td>London</td><td>434</td></tr><tr><td>Paris</td><td>398</td></tr><tr><td>Burien</td><td>215</td></tr></table>"
                    },
                    "metadata": {}
                }
            ],
            "execution_count": 1
        },
        {
            "cell_type": "markdown",
            "source": [
                "# **🟠⚡️ Tip 19 - CASTING**\n",
                "\n",
                "CAST is simply used to convert the data types or tune the column data. Example data types are INT, FLOAT, TINYINT, MONEY, VARCHAR, DECIMAL etc. Let's look at the query.\n",
                "\n",
                "```SQL\n",
                "USE AdventureWorks2022;\n",
                "GO\n",
                "\n",
                "SELECT soh.SalesOrderID\n",
                "        ,soh.OrderDate\n",
                "        ,CAST(soh.OrderDate AS DATE) as 'OrderDateAfterCAST'\n",
                "        ,soh.SubTotal\n",
                "        ,soh.CreditCardApprovalCode\n",
                "        --Casting non-numeric values will throw and Error\n",
                "        --CAST(soh.CreditCardApprovalCode AS FLOAT)\n",
                "        ,CAST(soh.SubTotal AS INT) AS 'SubTotalDueAfterCAST'\n",
                "        ,soh.TaxAmt\n",
                "        ,CAST(soh.TaxAmt AS DECIMAL(10, 1)) AS 'TaxAmtAfterCast'\n",
                "FROM Sales.SalesOrderHeader soh\n",
                ";\n",
                "\n",
                "```"
            ],
            "metadata": {
                "language": "sql",
                "azdata_cell_guid": "0018510f-3322-4309-8dd1-d2401479482f"
            },
            "attachments": {}
        },
        {
            "cell_type": "code",
            "source": [
                "USE AdventureWorks2022;\r\n",
                "GO\r\n",
                "\r\n",
                "SELECT TOP (3) soh.SalesOrderID\r\n",
                "\t\t,soh.OrderDate\r\n",
                "\t\t,CAST(soh.OrderDate AS DATE) as 'OrderDateAfterCAST'\r\n",
                "\t\t,soh.SubTotal\r\n",
                "\t\t,soh.CreditCardApprovalCode\r\n",
                "\t\t--Casting non-numeric values will throw and Error\r\n",
                "\t\t--CAST(soh.CreditCardApprovalCode AS FLOAT)\r\n",
                "\t\t,CAST(soh.SubTotal AS INT) AS 'SubTotalDueAfterCAST'\r\n",
                "\t\t,soh.TaxAmt\r\n",
                "\t\t,CAST(soh.TaxAmt AS DECIMAL(10, 1)) AS 'TaxAmtAfterCast'\r\n",
                "FROM Sales.SalesOrderHeader soh\r\n",
                ";"
            ],
            "metadata": {
                "language": "sql",
                "azdata_cell_guid": "b6100e47-838b-4184-af5d-9ffd96f607d3"
            },
            "outputs": [
                {
                    "output_type": "display_data",
                    "data": {
                        "text/html": "Commands completed successfully."
                    },
                    "metadata": {}
                },
                {
                    "output_type": "display_data",
                    "data": {
                        "text/html": "(3 rows affected)"
                    },
                    "metadata": {}
                },
                {
                    "output_type": "display_data",
                    "data": {
                        "text/html": "Total execution time: 00:00:00.014"
                    },
                    "metadata": {}
                },
                {
                    "output_type": "execute_result",
                    "execution_count": 2,
                    "data": {
                        "application/vnd.dataresource+json": {
                            "schema": {
                                "fields": [
                                    {
                                        "name": "SalesOrderID"
                                    },
                                    {
                                        "name": "OrderDate"
                                    },
                                    {
                                        "name": "OrderDateAfterCAST"
                                    },
                                    {
                                        "name": "SubTotal"
                                    },
                                    {
                                        "name": "CreditCardApprovalCode"
                                    },
                                    {
                                        "name": "SubTotalDueAfterCAST"
                                    },
                                    {
                                        "name": "TaxAmt"
                                    },
                                    {
                                        "name": "TaxAmtAfterCast"
                                    }
                                ]
                            },
                            "data": [
                                {
                                    "SalesOrderID": "43659",
                                    "OrderDate": "2011-05-31 00:00:00.000",
                                    "OrderDateAfterCAST": "2011-05-31",
                                    "SubTotal": "20565.6206",
                                    "CreditCardApprovalCode": "105041Vi84182",
                                    "SubTotalDueAfterCAST": "20566",
                                    "TaxAmt": "1971.5149",
                                    "TaxAmtAfterCast": "1971.5"
                                },
                                {
                                    "SalesOrderID": "43660",
                                    "OrderDate": "2011-05-31 00:00:00.000",
                                    "OrderDateAfterCAST": "2011-05-31",
                                    "SubTotal": "1294.2529",
                                    "CreditCardApprovalCode": "115213Vi29411",
                                    "SubTotalDueAfterCAST": "1294",
                                    "TaxAmt": "124.2483",
                                    "TaxAmtAfterCast": "124.2"
                                },
                                {
                                    "SalesOrderID": "43661",
                                    "OrderDate": "2011-05-31 00:00:00.000",
                                    "OrderDateAfterCAST": "2011-05-31",
                                    "SubTotal": "32726.4786",
                                    "CreditCardApprovalCode": "85274Vi6854",
                                    "SubTotalDueAfterCAST": "32726",
                                    "TaxAmt": "3153.7696",
                                    "TaxAmtAfterCast": "3153.8"
                                }
                            ]
                        },
                        "text/html": "<table><tr><th>SalesOrderID</th><th>OrderDate</th><th>OrderDateAfterCAST</th><th>SubTotal</th><th>CreditCardApprovalCode</th><th>SubTotalDueAfterCAST</th><th>TaxAmt</th><th>TaxAmtAfterCast</th></tr><tr><td>43659</td><td>2011-05-31 00:00:00.000</td><td>2011-05-31</td><td>20565.6206</td><td>105041Vi84182</td><td>20566</td><td>1971.5149</td><td>1971.5</td></tr><tr><td>43660</td><td>2011-05-31 00:00:00.000</td><td>2011-05-31</td><td>1294.2529</td><td>115213Vi29411</td><td>1294</td><td>124.2483</td><td>124.2</td></tr><tr><td>43661</td><td>2011-05-31 00:00:00.000</td><td>2011-05-31</td><td>32726.4786</td><td>85274Vi6854</td><td>32726</td><td>3153.7696</td><td>3153.8</td></tr></table>"
                    },
                    "metadata": {}
                }
            ],
            "execution_count": 2
        },
        {
            "cell_type": "markdown",
            "source": [
                "# **🟠⚡️ Tip 20 - CASE Statement**\n",
                "\n",
                "In the earlier tips, we looked into IIF( ) function which works on a single column value. CASE statements are also work on 'IF - THEN - ELSE' logic by handling multiple column vales. \n",
                "\n",
                "The syntax for CASE is:\n",
                "\n",
                "CASE column\\_name\n",
                "\n",
                "WHEN condition1 THEN result1\n",
                "\n",
                "WHEN condition2 THEN result2\n",
                "\n",
                "...............................................................\n",
                "\n",
                "ELSE RESULT\n",
                "\n",
                "END;\n",
                "\n",
                "In this query, the CASE statement is applied on MaritalStatus and Salaried Flag columns\n",
                "\n",
                "```SQL\n",
                "USE AdventureWorks2022;\n",
                "GO\n",
                "\n",
                "SELECT e.BusinessEntityID\n",
                "        ,e.MaritalStatus\n",
                "        ,CASE e.MaritalStatus\n",
                "            WHEN 'S' THEN 'Single'\n",
                "            WHEN 'M' THEN 'Married'\n",
                "            ELSE 'Unknown'\n",
                "        END AS 'CASEMaritalStatus'\n",
                "        ,e.SalariedFlag\n",
                "        ,CASE e.SalariedFlag\n",
                "            WHEN '1' THEN 'AnnualPay'\n",
                "            WHEN '0' THEN 'HourlyPay'\n",
                "            ELSE 'NoPay'\n",
                "        END AS 'CASEPayStatus'\n",
                "FROM HumanResources.Employee e\n",
                ";\n",
                "\n",
                "```"
            ],
            "metadata": {
                "azdata_cell_guid": "6b316995-e9c8-43b4-8872-347973486a83"
            },
            "attachments": {}
        },
        {
            "cell_type": "code",
            "source": [
                "USE AdventureWorks2022;\r\n",
                "GO\r\n",
                "\r\n",
                "SELECT TOP (5) e.BusinessEntityID\r\n",
                "\t\t,e.MaritalStatus\r\n",
                "\t\t,CASE e.MaritalStatus\r\n",
                "\t\t\tWHEN 'S' THEN 'Single'\r\n",
                "\t\t\tWHEN 'M' THEN 'Married'\r\n",
                "\t\t\tELSE 'Unknown'\r\n",
                "\t\tEND AS 'CASEMaritalStatus'\r\n",
                "\t\t,e.SalariedFlag\r\n",
                "\t\t,CASE e.SalariedFlag\r\n",
                "\t\t\tWHEN '1' THEN 'AnnualPay'\r\n",
                "\t\t\tWHEN '0' THEN 'HourlyPay'\r\n",
                "\t\t\tELSE 'NoPay'\r\n",
                "\t\tEND AS 'CASEPayStatus'\r\n",
                "FROM HumanResources.Employee e\r\n",
                ";"
            ],
            "metadata": {
                "azdata_cell_guid": "4ac5ce5a-496f-48af-ac1e-ef29eb84525c",
                "language": "sql"
            },
            "outputs": [
                {
                    "output_type": "display_data",
                    "data": {
                        "text/html": "Commands completed successfully."
                    },
                    "metadata": {}
                },
                {
                    "output_type": "display_data",
                    "data": {
                        "text/html": "(5 rows affected)"
                    },
                    "metadata": {}
                },
                {
                    "output_type": "display_data",
                    "data": {
                        "text/html": "Total execution time: 00:00:00.013"
                    },
                    "metadata": {}
                },
                {
                    "output_type": "execute_result",
                    "execution_count": 3,
                    "data": {
                        "application/vnd.dataresource+json": {
                            "schema": {
                                "fields": [
                                    {
                                        "name": "BusinessEntityID"
                                    },
                                    {
                                        "name": "MaritalStatus"
                                    },
                                    {
                                        "name": "CASEMaritalStatus"
                                    },
                                    {
                                        "name": "SalariedFlag"
                                    },
                                    {
                                        "name": "CASEPayStatus"
                                    }
                                ]
                            },
                            "data": [
                                {
                                    "BusinessEntityID": "1",
                                    "MaritalStatus": "S",
                                    "CASEMaritalStatus": "Single",
                                    "SalariedFlag": "1",
                                    "CASEPayStatus": "AnnualPay"
                                },
                                {
                                    "BusinessEntityID": "2",
                                    "MaritalStatus": "S",
                                    "CASEMaritalStatus": "Single",
                                    "SalariedFlag": "1",
                                    "CASEPayStatus": "AnnualPay"
                                },
                                {
                                    "BusinessEntityID": "3",
                                    "MaritalStatus": "M",
                                    "CASEMaritalStatus": "Married",
                                    "SalariedFlag": "1",
                                    "CASEPayStatus": "AnnualPay"
                                },
                                {
                                    "BusinessEntityID": "4",
                                    "MaritalStatus": "S",
                                    "CASEMaritalStatus": "Single",
                                    "SalariedFlag": "0",
                                    "CASEPayStatus": "HourlyPay"
                                },
                                {
                                    "BusinessEntityID": "5",
                                    "MaritalStatus": "M",
                                    "CASEMaritalStatus": "Married",
                                    "SalariedFlag": "1",
                                    "CASEPayStatus": "AnnualPay"
                                }
                            ]
                        },
                        "text/html": "<table><tr><th>BusinessEntityID</th><th>MaritalStatus</th><th>CASEMaritalStatus</th><th>SalariedFlag</th><th>CASEPayStatus</th></tr><tr><td>1</td><td>S</td><td>Single</td><td>1</td><td>AnnualPay</td></tr><tr><td>2</td><td>S</td><td>Single</td><td>1</td><td>AnnualPay</td></tr><tr><td>3</td><td>M</td><td>Married</td><td>1</td><td>AnnualPay</td></tr><tr><td>4</td><td>S</td><td>Single</td><td>0</td><td>HourlyPay</td></tr><tr><td>5</td><td>M</td><td>Married</td><td>1</td><td>AnnualPay</td></tr></table>"
                    },
                    "metadata": {}
                }
            ],
            "execution_count": 3
        },
        {
            "cell_type": "markdown",
            "source": [
                "# **🟠⚡️ Tip 21 - SUBQUERY**\n",
                "\n",
                "Subqueries are also known as inner query or nested query. While working with Subqueries, it is recommeded to work the inner query first and then amend that to the outer query. On the inner querym we will fetch the MAX(SalesYTD) of the column and then use another subwuery to find the difference.\n",
                "\n",
                "```SQL\n",
                "USE AdventureWorks2022;\n",
                "GO\n",
                "\n",
                "--working the inner query first\n",
                "SELECT MAX(sp.SalesYTD)\n",
                "FROM Sales.SalesPerson sp\n",
                ";\n",
                "\n",
                "```\n",
                "```\n",
                "USE AdventureWorks2022;\n",
                "GO\n",
                "--Subqueries\n",
                "SELECT sp.BusinessEntityID\n",
                "        ,sp.SalesYTD\n",
                "        ,(SELECT MAX(sp.SalesYTD)\n",
                "            FROM Sales.SalesPerson sp) AS 'MaxSalesYTD'\n",
                "        ,(SELECT MAX(sp.SalesYTD)\n",
                "            FROM Sales.SalesPerson sp) - sp.SalesYTD AS 'Difference'\n",
                "FROM Sales.SalesPerson sp\n",
                "ORDER BY sp.SalesYTD DESC\n",
                ";\n",
                "\n",
                "```"
            ],
            "metadata": {
                "azdata_cell_guid": "803e6a26-4a7d-44b8-b93c-94a15b9ac753"
            },
            "attachments": {}
        },
        {
            "cell_type": "code",
            "source": [
                "USE AdventureWorks2022;\r\n",
                "GO\r\n",
                "--Subqueries\r\n",
                "SELECT TOP (3) sp.BusinessEntityID\r\n",
                "\t\t,sp.SalesYTD\r\n",
                "\t\t,(SELECT MAX(sp.SalesYTD)\r\n",
                "\t\t\tFROM Sales.SalesPerson sp) AS 'MaxSalesYTD'\r\n",
                "\t\t,(SELECT MAX(sp.SalesYTD)\r\n",
                "\t\t\tFROM Sales.SalesPerson sp) - sp.SalesYTD AS 'Difference'\r\n",
                "FROM Sales.SalesPerson sp\r\n",
                "ORDER BY sp.SalesYTD DESC\r\n",
                ";"
            ],
            "metadata": {
                "azdata_cell_guid": "2390abe5-dcfb-4a12-a465-66a27b0a52f4",
                "language": "sql"
            },
            "outputs": [
                {
                    "output_type": "display_data",
                    "data": {
                        "text/html": "Commands completed successfully."
                    },
                    "metadata": {}
                },
                {
                    "output_type": "display_data",
                    "data": {
                        "text/html": "(3 rows affected)"
                    },
                    "metadata": {}
                },
                {
                    "output_type": "display_data",
                    "data": {
                        "text/html": "Total execution time: 00:00:00.066"
                    },
                    "metadata": {}
                },
                {
                    "output_type": "execute_result",
                    "execution_count": 5,
                    "data": {
                        "application/vnd.dataresource+json": {
                            "schema": {
                                "fields": [
                                    {
                                        "name": "BusinessEntityID"
                                    },
                                    {
                                        "name": "SalesYTD"
                                    },
                                    {
                                        "name": "MaxSalesYTD"
                                    },
                                    {
                                        "name": "Difference"
                                    }
                                ]
                            },
                            "data": [
                                {
                                    "BusinessEntityID": "276",
                                    "SalesYTD": "4251368.5497",
                                    "MaxSalesYTD": "4251368.5497",
                                    "Difference": "0.00"
                                },
                                {
                                    "BusinessEntityID": "289",
                                    "SalesYTD": "4116871.2277",
                                    "MaxSalesYTD": "4251368.5497",
                                    "Difference": "134497.322"
                                },
                                {
                                    "BusinessEntityID": "275",
                                    "SalesYTD": "3763178.1787",
                                    "MaxSalesYTD": "4251368.5497",
                                    "Difference": "488190.371"
                                }
                            ]
                        },
                        "text/html": "<table><tr><th>BusinessEntityID</th><th>SalesYTD</th><th>MaxSalesYTD</th><th>Difference</th></tr><tr><td>276</td><td>4251368.5497</td><td>4251368.5497</td><td>0.00</td></tr><tr><td>289</td><td>4116871.2277</td><td>4251368.5497</td><td>134497.322</td></tr><tr><td>275</td><td>3763178.1787</td><td>4251368.5497</td><td>488190.371</td></tr></table>"
                    },
                    "metadata": {}
                }
            ],
            "execution_count": 5
        },
        {
            "cell_type": "markdown",
            "source": [
                "# **🟠⚡️ Tip 22 - CORRELATED Subquery**\n",
                "\n",
                "When a subquery in WHERE clause is referenced to a subquery in SELECT statement. In simple words, CORRELATED subquery is the filter.\n",
                "\n",
                "In this query, JobTitle is fetched from HumanResources.Employee table using the innerquery which is referenced to the outer query on Person.Person table. FInally inside the WHERE clause, the NULL values are filtered out. \n",
                "\n",
                "CORRELATED subqueries impact the performance as the inner query executes for each row of the outer query.\n",
                "\n",
                "```SQL\n",
                "USE AdventureWorks2022;\n",
                "GO\n",
                "\n",
                "SELECT MyPerson.BusinessEntityID\n",
                "        ,MyPerson.FirstName + ' ' + MyPerson.LastName AS 'Name'\n",
                "        ,(SELECT e.JobTitle \n",
                "          FROM HumanResources.Employee e\n",
                "          WHERE e.BusinessEntityID = MyPerson.BusinessEntityID\n",
                "          ) AS 'JobTitle'\n",
                "FROM Person.Person AS MyPerson\n",
                "WHERE (SELECT e.JobTitle \n",
                "       FROM HumanResources.Employee e\n",
                "       WHERE e.BusinessEntityID = MyPerson.BusinessEntityID\n",
                "      ) IS NOT NULL\n",
                ";\n",
                "\n",
                "```"
            ],
            "metadata": {
                "language": "sql",
                "azdata_cell_guid": "2b0c41e8-7fbe-4c97-92db-f4089a026506"
            },
            "attachments": {}
        },
        {
            "cell_type": "code",
            "source": [
                "USE AdventureWorks2022;\r\n",
                "GO\r\n",
                "\r\n",
                "SELECT TOP (3) MyPerson.BusinessEntityID\r\n",
                "\t\t,MyPerson.FirstName + ' ' + MyPerson.LastName AS 'Name'\r\n",
                "\t\t,(SELECT e.JobTitle \r\n",
                "\t\t  FROM HumanResources.Employee e\r\n",
                "\t\t  WHERE e.BusinessEntityID = MyPerson.BusinessEntityID\r\n",
                "\t\t  ) AS 'JobTitle'\r\n",
                "FROM Person.Person AS MyPerson\r\n",
                "WHERE (SELECT e.JobTitle \r\n",
                "\t   FROM HumanResources.Employee e\r\n",
                "\t   WHERE e.BusinessEntityID = MyPerson.BusinessEntityID\r\n",
                "\t  ) IS NOT NULL\r\n",
                ";"
            ],
            "metadata": {
                "azdata_cell_guid": "973ceb49-1ad7-41fc-a79a-0f56b224fb1c",
                "language": "sql"
            },
            "outputs": [
                {
                    "output_type": "display_data",
                    "data": {
                        "text/html": "Commands completed successfully."
                    },
                    "metadata": {}
                },
                {
                    "output_type": "display_data",
                    "data": {
                        "text/html": "(3 rows affected)"
                    },
                    "metadata": {}
                },
                {
                    "output_type": "display_data",
                    "data": {
                        "text/html": "Total execution time: 00:00:00.069"
                    },
                    "metadata": {}
                },
                {
                    "output_type": "execute_result",
                    "execution_count": 6,
                    "data": {
                        "application/vnd.dataresource+json": {
                            "schema": {
                                "fields": [
                                    {
                                        "name": "BusinessEntityID"
                                    },
                                    {
                                        "name": "Name"
                                    },
                                    {
                                        "name": "JobTitle"
                                    }
                                ]
                            },
                            "data": [
                                {
                                    "BusinessEntityID": "1",
                                    "Name": "Ken Sánchez",
                                    "JobTitle": "Chief Executive Officer"
                                },
                                {
                                    "BusinessEntityID": "2",
                                    "Name": "Terri Duffy",
                                    "JobTitle": "Vice President of Engineering"
                                },
                                {
                                    "BusinessEntityID": "3",
                                    "Name": "Roberto Tamburello",
                                    "JobTitle": "Engineering Manager"
                                }
                            ]
                        },
                        "text/html": "<table><tr><th>BusinessEntityID</th><th>Name</th><th>JobTitle</th></tr><tr><td>1</td><td>Ken Sánchez</td><td>Chief Executive Officer</td></tr><tr><td>2</td><td>Terri Duffy</td><td>Vice President of Engineering</td></tr><tr><td>3</td><td>Roberto Tamburello</td><td>Engineering Manager</td></tr></table>"
                    },
                    "metadata": {}
                }
            ],
            "execution_count": 6
        },
        {
            "cell_type": "markdown",
            "source": [
                "# **🟠⚡️ Tip 23 - Federated Queries**\n",
                "\n",
                "Federated queries are used to write queries across multiple data bases. They are similar to any SQL JOINS with the only exception of a Fully Qualified Name (FQN) instead of table name.\n",
                "\n",
                "For example, Fully Qualified Name (FQN) means Table 1 - \"Northwind\\_2023.dbo.Orders\", Table 2 - \"w3schools\\_tutor3.dbo.Shippers\". So far, in our tips, we used AdventureWorks2022 as our database but for this query we will use Northwind\\_2023 and <span style=\"color: var(--vscode-foreground);\">w3schools_tutor3.</span>\n",
                "\n",
                "```SQL\n",
                "SELECT  sh.ShipperName AS 'Shipper Name'\n",
                "        ,COUNT(*) AS 'Order Count'\n",
                "FROM Northwind_2023.dbo.Orders ord\n",
                "    INNER JOIN w3schools_tutor3.dbo.Shippers sh\n",
                "    ON ord.ShipVia = sh.ShipperID\n",
                "GROUP BY sh.ShipperName\n",
                "ORDER BY [Order Count] DESC --need square brackets as there is spacein between\n",
                ";\n",
                "\n",
                "```"
            ],
            "metadata": {
                "azdata_cell_guid": "803b2dd8-3947-4785-81b0-180c13da5b57"
            },
            "attachments": {}
        },
        {
            "cell_type": "code",
            "source": [
                "SELECT TOP (3) sh.ShipperName AS 'Shipper Name'\r\n",
                "\t\t,COUNT(*) AS 'Order Count'\r\n",
                "FROM Northwind_2023.dbo.Orders ord\r\n",
                "\tINNER JOIN w3schools_tutor3.dbo.Shippers sh\r\n",
                "\tON ord.ShipVia = sh.ShipperID\r\n",
                "GROUP BY sh.ShipperName\r\n",
                "ORDER BY [Order Count] DESC --need square brackets as there is spacein between\r\n",
                ";"
            ],
            "metadata": {
                "azdata_cell_guid": "89426d82-fc6e-4715-998e-b50a0a5f5aaf",
                "language": "sql"
            },
            "outputs": [
                {
                    "output_type": "display_data",
                    "data": {
                        "text/html": "(3 rows affected)"
                    },
                    "metadata": {}
                },
                {
                    "output_type": "display_data",
                    "data": {
                        "text/html": "Total execution time: 00:00:00.067"
                    },
                    "metadata": {}
                },
                {
                    "output_type": "execute_result",
                    "execution_count": 7,
                    "data": {
                        "application/vnd.dataresource+json": {
                            "schema": {
                                "fields": [
                                    {
                                        "name": "Shipper Name"
                                    },
                                    {
                                        "name": "Order Count"
                                    }
                                ]
                            },
                            "data": [
                                {
                                    "Shipper Name": "United Package",
                                    "Order Count": "326"
                                },
                                {
                                    "Shipper Name": "Federal Shipping",
                                    "Order Count": "255"
                                },
                                {
                                    "Shipper Name": "Speedy Express",
                                    "Order Count": "249"
                                }
                            ]
                        },
                        "text/html": "<table><tr><th>Shipper Name</th><th>Order Count</th></tr><tr><td>United Package</td><td>326</td></tr><tr><td>Federal Shipping</td><td>255</td></tr><tr><td>Speedy Express</td><td>249</td></tr></table>"
                    },
                    "metadata": {}
                }
            ],
            "execution_count": 7
        },
        {
            "cell_type": "markdown",
            "source": [
                "# **🟠⚡️ Tip 24 - VIEWs**\n",
                "\n",
                "VIEW are created to eliminate repeated writing of same query across multiple tables. Once a view is created it can be treated as a regular table to fetch data. \n",
                "\n",
                "Note: Without ALTER keyword the views cannot be modified\n",
                "\n",
                "```SQL\n",
                "USE Northwind_2023;\n",
                "GO\n",
                "\n",
                "CREATE or ALTER VIEW dbo.ProductPerf as\n",
                "SELECT (o.OrderID * 10000)+(od.ProductID) as'pkOrdersPat'\n",
                "        ,o.OrderID as 'OrderID'\n",
                "        ,CAST(o.OrderDate as DATE) as 'OrderDate' --removing timestamp\n",
                "        ,od.ProductID as 'ProductID'\n",
                "        ,od.UnitPrice as 'UnitPrice'\n",
                "        ,od.Quantity as 'Quantity'\n",
                "        ,od.Discount as 'Discount'\n",
                "        ,CASE\n",
                "            WHEN od.UnitPrice = 0 THEN od.UnitPrice * od.Quantity\n",
                "            ELSE od.UnitPrice * od.Quantity * (1 - od.discount)\n",
                "        END as 'LineTotal'\n",
                "FROM dbo.Orders o\n",
                "    INNER JOIN dbo.OrderDetails od\n",
                "    ON o.OrderID = od.OrderID\n",
                ";\n",
                "\n",
                "```\n",
                "```\n",
                "--Query to fecth results from the View\n",
                "SELECT *\n",
                "FROM dbo.vwProductPerf vpp\n",
                "WHERE YEAR(vpp.OrderDate) = '2023'\n",
                "    AND (vpp.Quantity > 15)\n",
                "    AND vpp.Discount > 0\n",
                "ORDER BY vpp.LineTotal DESC\n",
                ";\n",
                "\n",
                "```"
            ],
            "metadata": {
                "language": "sql",
                "azdata_cell_guid": "4d76c09b-f2eb-4cc6-9074-ef9a39815110"
            },
            "attachments": {}
        },
        {
            "cell_type": "code",
            "source": [
                "USE Northwind_2023;\r\n",
                "GO\r\n",
                "\r\n",
                "CREATE or ALTER VIEW dbo.vwProductPerf as\r\n",
                "SELECT (o.OrderID * 10000)+(od.ProductID) as'pkOrdersPat'\r\n",
                "\t\t--,CAST(CONCAT(o.OrderID,od.productID) as int) as 'pkOrderID' --anotherway but no growth\r\n",
                "\t\t,o.OrderID as 'OrderID'\r\n",
                "\t\t,CAST(o.OrderDate as DATE) as 'OrderDate' --removing timestamp\r\n",
                "\t\t,od.ProductID as 'ProductID'\r\n",
                "\t\t,od.UnitPrice as 'UnitPrice'\r\n",
                "\t\t,od.Quantity as 'Quantity'\r\n",
                "\t\t,od.Discount as 'Discount'\r\n",
                "\t\t,CASE\r\n",
                "\t\t\tWHEN od.UnitPrice = 0 THEN od.UnitPrice * od.Quantity\r\n",
                "\t\t\t--WHEN od.UnitPrice > 0 THEN od.UnitPrice * od.Quantity\r\n",
                "\t\t\tELSE od.UnitPrice * od.Quantity * (1 - od.discount)\r\n",
                "\t\tEND as 'LineTotal'\r\n",
                "FROM dbo.Orders o\r\n",
                "\tINNER JOIN dbo.OrderDetails od\r\n",
                "\tON o.OrderID = od.OrderID\r\n",
                ";"
            ],
            "metadata": {
                "azdata_cell_guid": "28b781f2-2af2-498f-89d4-a62b5f47133e",
                "language": "sql"
            },
            "outputs": [
                {
                    "output_type": "display_data",
                    "data": {
                        "text/html": "Commands completed successfully."
                    },
                    "metadata": {}
                },
                {
                    "output_type": "display_data",
                    "data": {
                        "text/html": "Commands completed successfully."
                    },
                    "metadata": {}
                },
                {
                    "output_type": "display_data",
                    "data": {
                        "text/html": "Total execution time: 00:00:00.010"
                    },
                    "metadata": {}
                }
            ],
            "execution_count": 10
        },
        {
            "cell_type": "code",
            "source": [
                "--Query to fecth results from the View\r\n",
                "SELECT TOP (3) *\r\n",
                "FROM dbo.vwProductPerf vpp\r\n",
                "WHERE YEAR(vpp.OrderDate) = '2023'\r\n",
                "\tAND (vpp.Quantity > 15)\r\n",
                "\tAND vpp.Discount > 0\r\n",
                "ORDER BY vpp.LineTotal DESC\r\n",
                ";"
            ],
            "metadata": {
                "azdata_cell_guid": "8a09ab4a-78b7-4ef5-af71-d62a23f0af87",
                "language": "sql"
            },
            "outputs": [
                {
                    "output_type": "display_data",
                    "data": {
                        "text/html": "(3 rows affected)"
                    },
                    "metadata": {}
                },
                {
                    "output_type": "display_data",
                    "data": {
                        "text/html": "Total execution time: 00:00:00.085"
                    },
                    "metadata": {}
                },
                {
                    "output_type": "execute_result",
                    "execution_count": 15,
                    "data": {
                        "application/vnd.dataresource+json": {
                            "schema": {
                                "fields": [
                                    {
                                        "name": "pkOrdersPat"
                                    },
                                    {
                                        "name": "OrderID"
                                    },
                                    {
                                        "name": "OrderDate"
                                    },
                                    {
                                        "name": "ProductID"
                                    },
                                    {
                                        "name": "UnitPrice"
                                    },
                                    {
                                        "name": "Quantity"
                                    },
                                    {
                                        "name": "Discount"
                                    },
                                    {
                                        "name": "LineTotal"
                                    }
                                ]
                            },
                            "data": [
                                {
                                    "pkOrdersPat": "108650038",
                                    "OrderID": "10865",
                                    "OrderDate": "2023-02-02",
                                    "ProductID": "38",
                                    "UnitPrice": "263.50",
                                    "Quantity": "60",
                                    "Discount": "0.05",
                                    "LineTotal": "15019.5"
                                },
                                {
                                    "pkOrdersPat": "108160038",
                                    "OrderID": "10816",
                                    "OrderDate": "2023-01-06",
                                    "ProductID": "38",
                                    "UnitPrice": "263.50",
                                    "Quantity": "30",
                                    "Discount": "0.05",
                                    "LineTotal": "7509.75"
                                },
                                {
                                    "pkOrdersPat": "109120029",
                                    "OrderID": "10912",
                                    "OrderDate": "2023-02-26",
                                    "ProductID": "29",
                                    "UnitPrice": "123.79",
                                    "Quantity": "60",
                                    "Discount": "0.25",
                                    "LineTotal": "5570.55"
                                }
                            ]
                        },
                        "text/html": "<table><tr><th>pkOrdersPat</th><th>OrderID</th><th>OrderDate</th><th>ProductID</th><th>UnitPrice</th><th>Quantity</th><th>Discount</th><th>LineTotal</th></tr><tr><td>108650038</td><td>10865</td><td>2023-02-02</td><td>38</td><td>263.50</td><td>60</td><td>0.05</td><td>15019.5</td></tr><tr><td>108160038</td><td>10816</td><td>2023-01-06</td><td>38</td><td>263.50</td><td>30</td><td>0.05</td><td>7509.75</td></tr><tr><td>109120029</td><td>10912</td><td>2023-02-26</td><td>29</td><td>123.79</td><td>60</td><td>0.25</td><td>5570.55</td></tr></table>"
                    },
                    "metadata": {}
                }
            ],
            "execution_count": 15
        },
        {
            "cell_type": "markdown",
            "source": [
                "# **🟠⚡️ Tip 25 - CTE (Common Table Expression)**\n",
                "\n",
                "CTEs are same as view but they are NOT stored (temporary tables). They exist per execution and clears the memory right after completion. It is a must to execute the query and dependant CTE as a single block of code. In this example, the code block is placed in between GO - GO statements for understanding.\n",
                "\n",
                "```SQL\n",
                "USE Northwind_2023;\n",
                "GO \n",
                "\n",
                "GO\n",
                "WITH MGRCTE AS(\n",
                "SELECT mgr.EmployeeID as 'MgrID'\n",
                "\t\t,concat(mgr.FirstName,' ',mgr.LastName) as 'Manager'\n",
                "\t\t,mgr.Title as 'Title'\n",
                "FROM dbo.Employees mgr\n",
                "WHERE mgr.EmployeeID IN \n",
                "\t\t(SELECT distinct e.ReportsTo from Employees e)\n",
                ")\n",
                "SELECT TOP (3) emp.EmployeeID\n",
                "\t\t,CONCAT(emp.FirstName,' ',emp.LastName) as 'ManagerName'\n",
                "\t\t,emp.Title as 'Title'\n",
                "\t\t,ISNULL(mgr.Manager, 'BOD') as 'Manager'\n",
                "\t\t,ISNULL(mgr.Title, 'Board Of Directors') as 'Title'\n",
                "FROM dbo.Employees as emp\n",
                "\tLEFT OUTER JOIN MGRCTE as mgr\n",
                "\tON emp.ReportsTo = mgr.MgrID\n",
                ";\n",
                "GO\n",
                "\n",
                "```"
            ],
            "metadata": {
                "language": "sql",
                "azdata_cell_guid": "b3768844-5e42-43c9-bda6-3a7a8ac4fd8a"
            },
            "attachments": {}
        },
        {
            "cell_type": "code",
            "source": [
                "USE Northwind_2023;\r\n",
                "GO \r\n",
                "\r\n",
                "GO\r\n",
                "WITH MGRCTE AS(\r\n",
                "SELECT mgr.EmployeeID as 'MgrID'\r\n",
                "\t\t,concat(mgr.FirstName,' ',mgr.LastName) as 'Manager'\r\n",
                "\t\t,mgr.Title as 'Title'\r\n",
                "FROM dbo.Employees mgr\r\n",
                "WHERE mgr.EmployeeID IN \r\n",
                "\t\t(SELECT distinct e.ReportsTo from Employees e)\r\n",
                ")\r\n",
                "SELECT TOP (3) emp.EmployeeID\r\n",
                "\t\t,CONCAT(emp.FirstName,' ',emp.LastName) as 'ManagerName'\r\n",
                "\t\t,emp.Title as 'Title'\r\n",
                "\t\t,ISNULL(mgr.Manager, 'BOD') as 'Manager'\r\n",
                "\t\t,ISNULL(mgr.Title, 'Board Of Directors') as 'Title'\r\n",
                "FROM dbo.Employees as emp\r\n",
                "\tLEFT OUTER JOIN MGRCTE as mgr\r\n",
                "\tON emp.ReportsTo = mgr.MgrID\r\n",
                ";\r\n",
                "GO"
            ],
            "metadata": {
                "azdata_cell_guid": "16adcf88-1db8-430c-b15c-502a538ef1bd",
                "language": "sql",
                "tags": []
            },
            "outputs": [
                {
                    "output_type": "display_data",
                    "data": {
                        "text/html": "Commands completed successfully."
                    },
                    "metadata": {}
                },
                {
                    "output_type": "display_data",
                    "data": {
                        "text/html": "(3 rows affected)"
                    },
                    "metadata": {}
                },
                {
                    "output_type": "display_data",
                    "data": {
                        "text/html": "Total execution time: 00:00:00.159"
                    },
                    "metadata": {}
                },
                {
                    "output_type": "execute_result",
                    "metadata": {},
                    "execution_count": 2,
                    "data": {
                        "application/vnd.dataresource+json": {
                            "schema": {
                                "fields": [
                                    {
                                        "name": "EmployeeID"
                                    },
                                    {
                                        "name": "ManagerName"
                                    },
                                    {
                                        "name": "Title"
                                    },
                                    {
                                        "name": "Manager"
                                    },
                                    {
                                        "name": "Title"
                                    }
                                ]
                            },
                            "data": [
                                {
                                    "EmployeeID": "1",
                                    "ManagerName": "Nancy Davolio",
                                    "Title": "Vice President, Sales",
                                    "Manager": "Andrew Fuller"
                                },
                                {
                                    "EmployeeID": "2",
                                    "ManagerName": "Andrew Fuller",
                                    "Title": "Board Of Directors",
                                    "Manager": "BOD"
                                },
                                {
                                    "EmployeeID": "3",
                                    "ManagerName": "Janet Leverling",
                                    "Title": "Vice President, Sales",
                                    "Manager": "Andrew Fuller"
                                }
                            ]
                        },
                        "text/html": [
                            "<table>",
                            "<tr><th>EmployeeID</th><th>ManagerName</th><th>Title</th><th>Manager</th><th>Title</th></tr>",
                            "<tr><td>1</td><td>Nancy Davolio</td><td>Sales Representative</td><td>Andrew Fuller</td><td>Vice President, Sales</td></tr>",
                            "<tr><td>2</td><td>Andrew Fuller</td><td>Vice President, Sales</td><td>BOD</td><td>Board Of Directors</td></tr>",
                            "<tr><td>3</td><td>Janet Leverling</td><td>Sales Representative</td><td>Andrew Fuller</td><td>Vice President, Sales</td></tr>",
                            "</table>"
                        ]
                    }
                }
            ],
            "execution_count": 2
        }
    ]
}